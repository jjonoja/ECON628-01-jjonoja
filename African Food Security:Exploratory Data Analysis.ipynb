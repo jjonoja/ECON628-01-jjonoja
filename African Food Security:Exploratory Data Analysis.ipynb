{
 "cells": [
  {
   "cell_type": "markdown",
   "metadata": {},
   "source": [
    "<img src=\"https://images.efollett.com/htmlroot/images/templates/storeLogos/CA/864.gif\" style=\"float: right;\"> \n",
    "\n",
    "\n",
    "\n",
    "\n",
    "# ECON628-01-jjonoja \n",
    "### Project 2 \"Case Study\" \n",
    "\n",
    "### African Food Insecurity: Forecasting determinants of food deficit using Machine Learning
   ]
  },
  {
   "cell_type": "code",
   "execution_count": 170,
   "metadata": {
    "collapsed": true
   },
   "outputs": [],
   "source": [
    "#Relevant packages are installed for graphics, computations, and forecasting\n",
    "import numpy as np\n",
    "import scipy.stats as stats\n",
    "import pandas as pd\n",
    "import seaborn as sns\n",
    "\n",
    "import matplotlib\n",
    "import matplotlib.pyplot as plt\n",
    "sns.set_style('darkgrid')\n",
    "\n",
    "\n",
    "%config InlineBackend.figure_format = 'retina'\n",
    "%matplotlib inline"
   ]
  },
  {
   "cell_type": "markdown",
   "metadata": {},
   "source": [
    "### Data Source: Food and Agriculture Organization of the United Nations Statistics (FAOSTAT). \n",
    "### Link: http://www.fao.org/faostat/en/#data\n",
    "\n",
    "### Description: Macro Agriculture Indicator Data for all African countries (1990-2015)\n"
   ]
  },
  {
   "cell_type": "markdown",
   "metadata": {},
   "source": [
    "#                            ### Reading the Dataframe "
   ]
  },
  {
   "cell_type": "code",
   "execution_count": 171,
   "metadata": {
    "collapsed": true
   },
   "outputs": [],
   "source": [
    "#Sub-sections of the dataframe would be merged to generate the master file\n",
    "df1 = pd.read_csv('/Users/jjonoja/Desktop/FAOSTAT/Africa/Number_People_Undernourished_millions.csv')\n",
    "\n",
    "#Dataset 2 for prevalence of under-nourishment, an indicator of food insecurity\n",
    "#df2 = pd.read_csv('/Users/jjonoja/Desktop/FAOSTAT/Africa/Africa_PrevalennceUnderNourishment.csv')\n",
    "\n",
    "#Dataset 3 for depth of food deficit, an indicator of food insecurity across the sampled countries over time\n",
    "#df3 = pd.read_csv('/Users/jjonoja/Desktop/FAOSTAT/Africa/Africa_Depth_food_deficit.csv')\n",
    "\n",
    "#Dataset 4 for Quantity of crop production, an indicator of food output capacity of the economy of sampled countries over time\n",
    "df4 = pd.read_csv('/Users/jjonoja/Desktop/FAOSTAT/Africa/Africa_Crop_Production_Quantity.csv')\n",
    "\n",
    "#Dataset 5 for Quantity of crop Yield per ha, an indicator of agric productivity of the sampled countries over time\n",
    "df5 = pd.read_csv('/Users/jjonoja/Desktop/FAOSTAT/Africa/Africa_Yield_Crops.csv')\n",
    "\n",
    "#Dataset 6 for Quantity of Agric value added, an indicator of agric productivity of the sampled countries over time\n",
    "df6 = pd.read_csv('/Users/jjonoja/Desktop/FAOSTAT/Africa/Africa_Agric_Value_Added_USD.csv')\n",
    "\n",
    "#GDP Per Capita of the African coutries\n",
    "df7 = pd.read_csv('/Users/jjonoja/Desktop/FAOSTAT/Africa/Africa_GDP_PC.csv')\n",
    "\n",
    "#Employment in Agriculture \n",
    "df8 = pd.read_csv('/Users/jjonoja/Desktop/FAOSTAT/Africa/Africa_Employment_Agriculture.csv')\n",
    "\n",
    "# Total Population (millions)\n",
    "df9 = pd.read_csv('/Users/jjonoja/Desktop/FAOSTAT/Africa/Africa_Total_Population.csv')\n",
    "\n",
    "# Urban Population (per thousand people)\n",
    "df10 = pd.read_csv('/Users/jjonoja/Desktop/FAOSTAT/Africa/Africa_Urban_Population.csv')\n",
    "\n",
    "# Rural Population (per thousand people)\n",
    "df11 = pd.read_csv('/Users/jjonoja/Desktop/FAOSTAT/Africa/Africa_Rural_Population.csv')\n",
    "\n",
    "# Total FDI Inflows\n",
    "df12 = pd.read_csv('/Users/jjonoja/Desktop/FAOSTAT/Africa/Africa_Total_FDI_Inflows.csv')\n",
    "\n",
    "# Total FDI Inflows to Agriculture Sector\n",
    "df13 = pd.read_csv('/Users/jjonoja/Desktop/FAOSTAT/Africa/Africa_AFF_FDI_Inflows.csv')\n",
    "\n",
    "# Official Development Aid devoted to crop production\n",
    "df14 = pd.read_csv('/Users/jjonoja/Desktop/FAOSTAT/Africa/Africa_ODA_Crop_Production.csv')\n",
    "\n",
    "# Official Development Aid to Agriculture, fishery and forestry\n",
    "df15 = pd.read_csv('/Users/jjonoja/Desktop/FAOSTAT/Africa/Africa_ODA_AFF.csv')\n",
    "\n",
    "# Agriculture, Fishery, and Forestry total credit across Africa\n",
    "df16 = pd.read_csv('/Users/jjonoja/Desktop/FAOSTAT/Africa/Africa_AFF_Total_Credit.csv')\n",
    "\n",
    "# Agriculture, Fishery, and Forestry share of total credit across Africa\n",
    "df17 = pd.read_csv('/Users/jjonoja/Desktop/FAOSTAT/Africa/Africa_AFF_Share_Credit.csv')\n"
   ]
  },
  {
   "cell_type": "code",
   "execution_count": 172,
   "metadata": {
    "collapsed": false
   },
   "outputs": [
    {
     "name": "stdout",
     "output_type": "stream",
     "text": [
      "<class 'pandas.core.frame.DataFrame'>\n",
      "RangeIndex: 1275 entries, 0 to 1274\n",
      "Data columns (total 14 columns):\n",
      "Domain Code         1275 non-null object\n",
      "Domain              1275 non-null object\n",
      "Country Code        1275 non-null int64\n",
      "Country             1275 non-null object\n",
      "Element Code        1275 non-null int64\n",
      "Element             1275 non-null object\n",
      "Item Code           1275 non-null int64\n",
      "Item                1275 non-null object\n",
      "Year Code           1275 non-null int64\n",
      "Year                1275 non-null int64\n",
      "Unit                1275 non-null object\n",
      "Value               912 non-null float64\n",
      "Flag                183 non-null object\n",
      "Flag Description    1275 non-null object\n",
      "dtypes: float64(1), int64(5), object(8)\n",
      "memory usage: 139.5+ KB\n"
     ]
    },
    {
     "data": {
      "text/plain": [
       "(1275, 14)"
      ]
     },
     "execution_count": 172,
     "metadata": {},
     "output_type": "execute_result"
    }
   ],
   "source": [
    "df1.info()\n",
    "df1.shape"
   ]
  },
  {
   "cell_type": "code",
   "execution_count": 173,
   "metadata": {
    "collapsed": false
   },
   "outputs": [
    {
     "data": {
      "text/plain": [
       "Domain Code         0\n",
       "Domain              0\n",
       "Country Code        0\n",
       "Country             0\n",
       "Element Code        0\n",
       "Element             0\n",
       "Item Code           0\n",
       "Item                0\n",
       "Year Code           0\n",
       "Year                0\n",
       "Unit                0\n",
       "Value               0\n",
       "Flag                0\n",
       "Flag Description    0\n",
       "dtype: int64"
      ]
     },
     "execution_count": 173,
     "metadata": {},
     "output_type": "execute_result"
    }
   ],
   "source": [
    "df11.isnull().sum()\n"
   ]
  },
  {
   "cell_type": "code",
   "execution_count": 174,
   "metadata": {
    "collapsed": false
   },
   "outputs": [
    {
     "name": "stdout",
     "output_type": "stream",
     "text": [
      "<class 'pandas.core.frame.DataFrame'>\n",
      "RangeIndex: 2816 entries, 0 to 2815\n",
      "Data columns (total 18 columns):\n",
      "Domain Code               2816 non-null object\n",
      "Domain                    2816 non-null object\n",
      "Donor Code                2816 non-null int64\n",
      "Donor                     2816 non-null object\n",
      "Recipient Country Code    2816 non-null int64\n",
      "Recipient Country         2816 non-null object\n",
      "Element Code              2816 non-null int64\n",
      "Element                   2816 non-null object\n",
      "Item Code                 2816 non-null int64\n",
      "Item                      2816 non-null object\n",
      "Purpose Code              2816 non-null int64\n",
      "Purpose                   2816 non-null object\n",
      "Year Code                 2816 non-null int64\n",
      "Year                      2816 non-null int64\n",
      "Unit                      2816 non-null object\n",
      "Value                     1575 non-null float64\n",
      "Flag                      2816 non-null object\n",
      "Flag Description          2816 non-null object\n",
      "dtypes: float64(1), int64(7), object(10)\n",
      "memory usage: 396.1+ KB\n"
     ]
    }
   ],
   "source": [
    "df14.shape\n",
    "df14.info()"
   ]
  },
  {
   "cell_type": "code",
   "execution_count": 175,
   "metadata": {
    "collapsed": false
   },
   "outputs": [
    {
     "data": {
      "text/html": [
       "<div>\n",
       "<table border=\"1\" class=\"dataframe\">\n",
       "  <thead>\n",
       "    <tr style=\"text-align: right;\">\n",
       "      <th></th>\n",
       "      <th>Domain Code</th>\n",
       "      <th>Domain</th>\n",
       "      <th>Area Code</th>\n",
       "      <th>Area</th>\n",
       "      <th>Element Code</th>\n",
       "      <th>Element</th>\n",
       "      <th>Item Code</th>\n",
       "      <th>Item</th>\n",
       "      <th>Year Code</th>\n",
       "      <th>Year</th>\n",
       "      <th>Unit</th>\n",
       "      <th>Value</th>\n",
       "      <th>Flag</th>\n",
       "      <th>Flag Description</th>\n",
       "    </tr>\n",
       "  </thead>\n",
       "  <tbody>\n",
       "    <tr>\n",
       "      <th>0</th>\n",
       "      <td>QC</td>\n",
       "      <td>Crops</td>\n",
       "      <td>4</td>\n",
       "      <td>Algeria</td>\n",
       "      <td>5510</td>\n",
       "      <td>Production</td>\n",
       "      <td>221</td>\n",
       "      <td>Almonds, with shell</td>\n",
       "      <td>1990</td>\n",
       "      <td>1990</td>\n",
       "      <td>tonnes</td>\n",
       "      <td>11733.0</td>\n",
       "      <td>NaN</td>\n",
       "      <td>Official data</td>\n",
       "    </tr>\n",
       "    <tr>\n",
       "      <th>1</th>\n",
       "      <td>QC</td>\n",
       "      <td>Crops</td>\n",
       "      <td>4</td>\n",
       "      <td>Algeria</td>\n",
       "      <td>5510</td>\n",
       "      <td>Production</td>\n",
       "      <td>221</td>\n",
       "      <td>Almonds, with shell</td>\n",
       "      <td>1991</td>\n",
       "      <td>1991</td>\n",
       "      <td>tonnes</td>\n",
       "      <td>15768.0</td>\n",
       "      <td>NaN</td>\n",
       "      <td>Official data</td>\n",
       "    </tr>\n",
       "    <tr>\n",
       "      <th>2</th>\n",
       "      <td>QC</td>\n",
       "      <td>Crops</td>\n",
       "      <td>4</td>\n",
       "      <td>Algeria</td>\n",
       "      <td>5510</td>\n",
       "      <td>Production</td>\n",
       "      <td>221</td>\n",
       "      <td>Almonds, with shell</td>\n",
       "      <td>1992</td>\n",
       "      <td>1992</td>\n",
       "      <td>tonnes</td>\n",
       "      <td>17901.0</td>\n",
       "      <td>NaN</td>\n",
       "      <td>Official data</td>\n",
       "    </tr>\n",
       "  </tbody>\n",
       "</table>\n",
       "</div>"
      ],
      "text/plain": [
       "  Domain Code Domain  Area Code     Area  Element Code     Element  Item Code  \\\n",
       "0          QC  Crops          4  Algeria          5510  Production        221   \n",
       "1          QC  Crops          4  Algeria          5510  Production        221   \n",
       "2          QC  Crops          4  Algeria          5510  Production        221   \n",
       "\n",
       "                  Item  Year Code  Year    Unit    Value Flag Flag Description  \n",
       "0  Almonds, with shell       1990  1990  tonnes  11733.0  NaN    Official data  \n",
       "1  Almonds, with shell       1991  1991  tonnes  15768.0  NaN    Official data  \n",
       "2  Almonds, with shell       1992  1992  tonnes  17901.0  NaN    Official data  "
      ]
     },
     "execution_count": 175,
     "metadata": {},
     "output_type": "execute_result"
    }
   ],
   "source": [
    "df4.head(3)"
   ]
  },
  {
   "cell_type": "code",
   "execution_count": 176,
   "metadata": {
    "collapsed": false
   },
   "outputs": [
    {
     "data": {
      "text/html": [
       "<div>\n",
       "<table border=\"1\" class=\"dataframe\">\n",
       "  <thead>\n",
       "    <tr style=\"text-align: right;\">\n",
       "      <th></th>\n",
       "      <th>Year</th>\n",
       "    </tr>\n",
       "    <tr>\n",
       "      <th>Country</th>\n",
       "      <th></th>\n",
       "    </tr>\n",
       "  </thead>\n",
       "  <tbody>\n",
       "    <tr>\n",
       "      <th>Algeria</th>\n",
       "      <td>25</td>\n",
       "    </tr>\n",
       "    <tr>\n",
       "      <th>Angola</th>\n",
       "      <td>25</td>\n",
       "    </tr>\n",
       "    <tr>\n",
       "      <th>Benin</th>\n",
       "      <td>25</td>\n",
       "    </tr>\n",
       "    <tr>\n",
       "      <th>Botswana</th>\n",
       "      <td>25</td>\n",
       "    </tr>\n",
       "    <tr>\n",
       "      <th>Burkina Faso</th>\n",
       "      <td>25</td>\n",
       "    </tr>\n",
       "    <tr>\n",
       "      <th>Burundi</th>\n",
       "      <td>25</td>\n",
       "    </tr>\n",
       "    <tr>\n",
       "      <th>Cabo Verde</th>\n",
       "      <td>25</td>\n",
       "    </tr>\n",
       "    <tr>\n",
       "      <th>Cameroon</th>\n",
       "      <td>25</td>\n",
       "    </tr>\n",
       "    <tr>\n",
       "      <th>Central African Republic</th>\n",
       "      <td>25</td>\n",
       "    </tr>\n",
       "    <tr>\n",
       "      <th>Chad</th>\n",
       "      <td>25</td>\n",
       "    </tr>\n",
       "    <tr>\n",
       "      <th>Congo</th>\n",
       "      <td>25</td>\n",
       "    </tr>\n",
       "    <tr>\n",
       "      <th>CÌ«te d'Ivoire</th>\n",
       "      <td>25</td>\n",
       "    </tr>\n",
       "    <tr>\n",
       "      <th>Democratic Republic of the Congo</th>\n",
       "      <td>25</td>\n",
       "    </tr>\n",
       "    <tr>\n",
       "      <th>Djibouti</th>\n",
       "      <td>25</td>\n",
       "    </tr>\n",
       "    <tr>\n",
       "      <th>Egypt</th>\n",
       "      <td>25</td>\n",
       "    </tr>\n",
       "    <tr>\n",
       "      <th>Equatorial Guinea</th>\n",
       "      <td>25</td>\n",
       "    </tr>\n",
       "    <tr>\n",
       "      <th>Eritrea</th>\n",
       "      <td>25</td>\n",
       "    </tr>\n",
       "    <tr>\n",
       "      <th>Ethiopia</th>\n",
       "      <td>25</td>\n",
       "    </tr>\n",
       "    <tr>\n",
       "      <th>Gabon</th>\n",
       "      <td>25</td>\n",
       "    </tr>\n",
       "    <tr>\n",
       "      <th>Gambia</th>\n",
       "      <td>25</td>\n",
       "    </tr>\n",
       "    <tr>\n",
       "      <th>Ghana</th>\n",
       "      <td>25</td>\n",
       "    </tr>\n",
       "    <tr>\n",
       "      <th>Guinea</th>\n",
       "      <td>25</td>\n",
       "    </tr>\n",
       "    <tr>\n",
       "      <th>Guinea-Bissau</th>\n",
       "      <td>25</td>\n",
       "    </tr>\n",
       "    <tr>\n",
       "      <th>Kenya</th>\n",
       "      <td>25</td>\n",
       "    </tr>\n",
       "    <tr>\n",
       "      <th>Lesotho</th>\n",
       "      <td>25</td>\n",
       "    </tr>\n",
       "    <tr>\n",
       "      <th>Liberia</th>\n",
       "      <td>25</td>\n",
       "    </tr>\n",
       "    <tr>\n",
       "      <th>Libya</th>\n",
       "      <td>25</td>\n",
       "    </tr>\n",
       "    <tr>\n",
       "      <th>Madagascar</th>\n",
       "      <td>25</td>\n",
       "    </tr>\n",
       "    <tr>\n",
       "      <th>Malawi</th>\n",
       "      <td>25</td>\n",
       "    </tr>\n",
       "    <tr>\n",
       "      <th>Mali</th>\n",
       "      <td>25</td>\n",
       "    </tr>\n",
       "    <tr>\n",
       "      <th>Mauritania</th>\n",
       "      <td>25</td>\n",
       "    </tr>\n",
       "    <tr>\n",
       "      <th>Mauritius</th>\n",
       "      <td>25</td>\n",
       "    </tr>\n",
       "    <tr>\n",
       "      <th>Morocco</th>\n",
       "      <td>25</td>\n",
       "    </tr>\n",
       "    <tr>\n",
       "      <th>Mozambique</th>\n",
       "      <td>25</td>\n",
       "    </tr>\n",
       "    <tr>\n",
       "      <th>Namibia</th>\n",
       "      <td>25</td>\n",
       "    </tr>\n",
       "    <tr>\n",
       "      <th>Niger</th>\n",
       "      <td>25</td>\n",
       "    </tr>\n",
       "    <tr>\n",
       "      <th>Nigeria</th>\n",
       "      <td>25</td>\n",
       "    </tr>\n",
       "    <tr>\n",
       "      <th>Rwanda</th>\n",
       "      <td>25</td>\n",
       "    </tr>\n",
       "    <tr>\n",
       "      <th>Senegal</th>\n",
       "      <td>25</td>\n",
       "    </tr>\n",
       "    <tr>\n",
       "      <th>Seychelles</th>\n",
       "      <td>25</td>\n",
       "    </tr>\n",
       "    <tr>\n",
       "      <th>Sierra Leone</th>\n",
       "      <td>25</td>\n",
       "    </tr>\n",
       "    <tr>\n",
       "      <th>South Africa</th>\n",
       "      <td>25</td>\n",
       "    </tr>\n",
       "    <tr>\n",
       "      <th>South Sudan</th>\n",
       "      <td>25</td>\n",
       "    </tr>\n",
       "    <tr>\n",
       "      <th>Sudan</th>\n",
       "      <td>25</td>\n",
       "    </tr>\n",
       "    <tr>\n",
       "      <th>Sudan (former)</th>\n",
       "      <td>25</td>\n",
       "    </tr>\n",
       "    <tr>\n",
       "      <th>Swaziland</th>\n",
       "      <td>25</td>\n",
       "    </tr>\n",
       "    <tr>\n",
       "      <th>Togo</th>\n",
       "      <td>25</td>\n",
       "    </tr>\n",
       "    <tr>\n",
       "      <th>Tunisia</th>\n",
       "      <td>25</td>\n",
       "    </tr>\n",
       "    <tr>\n",
       "      <th>Uganda</th>\n",
       "      <td>25</td>\n",
       "    </tr>\n",
       "    <tr>\n",
       "      <th>Zambia</th>\n",
       "      <td>25</td>\n",
       "    </tr>\n",
       "    <tr>\n",
       "      <th>Zimbabwe</th>\n",
       "      <td>25</td>\n",
       "    </tr>\n",
       "  </tbody>\n",
       "</table>\n",
       "</div>"
      ],
      "text/plain": [
       "                                  Year\n",
       "Country                               \n",
       "Algeria                             25\n",
       "Angola                              25\n",
       "Benin                               25\n",
       "Botswana                            25\n",
       "Burkina Faso                        25\n",
       "Burundi                             25\n",
       "Cabo Verde                          25\n",
       "Cameroon                            25\n",
       "Central African Republic            25\n",
       "Chad                                25\n",
       "Congo                               25\n",
       "CÌ«te d'Ivoire                      25\n",
       "Democratic Republic of the Congo    25\n",
       "Djibouti                            25\n",
       "Egypt                               25\n",
       "Equatorial Guinea                   25\n",
       "Eritrea                             25\n",
       "Ethiopia                            25\n",
       "Gabon                               25\n",
       "Gambia                              25\n",
       "Ghana                               25\n",
       "Guinea                              25\n",
       "Guinea-Bissau                       25\n",
       "Kenya                               25\n",
       "Lesotho                             25\n",
       "Liberia                             25\n",
       "Libya                               25\n",
       "Madagascar                          25\n",
       "Malawi                              25\n",
       "Mali                                25\n",
       "Mauritania                          25\n",
       "Mauritius                           25\n",
       "Morocco                             25\n",
       "Mozambique                          25\n",
       "Namibia                             25\n",
       "Niger                               25\n",
       "Nigeria                             25\n",
       "Rwanda                              25\n",
       "Senegal                             25\n",
       "Seychelles                          25\n",
       "Sierra Leone                        25\n",
       "South Africa                        25\n",
       "South Sudan                         25\n",
       "Sudan                               25\n",
       "Sudan (former)                      25\n",
       "Swaziland                           25\n",
       "Togo                                25\n",
       "Tunisia                             25\n",
       "Uganda                              25\n",
       "Zambia                              25\n",
       "Zimbabwe                            25"
      ]
     },
     "execution_count": 176,
     "metadata": {},
     "output_type": "execute_result"
    }
   ],
   "source": [
    "#Previewing the basic list of countries in the dataframe and years under consideration.\n",
    "pd.set_option('display.max_rows', 400)\n",
    "df1.groupby(['Country'])[['Year']].count()"
   ]
  },
  {
   "cell_type": "code",
   "execution_count": 177,
   "metadata": {
    "collapsed": false
   },
   "outputs": [
    {
     "data": {
      "text/plain": [
       "Domain Code            0\n",
       "Domain                 0\n",
       "Country Code           0\n",
       "Country                0\n",
       "Element Code           0\n",
       "Element                0\n",
       "Item Code              0\n",
       "Item                   0\n",
       "Year Code              0\n",
       "Year                   0\n",
       "Unit                   0\n",
       "Value                363\n",
       "Flag                1092\n",
       "Flag Description       0\n",
       "dtype: int64"
      ]
     },
     "execution_count": 177,
     "metadata": {},
     "output_type": "execute_result"
    }
   ],
   "source": [
    "df1.isnull().sum()\n"
   ]
  },
  {
   "cell_type": "code",
   "execution_count": 178,
   "metadata": {
    "collapsed": false
   },
   "outputs": [],
   "source": [
    "#Drop all irrelevant columns\n",
    "df1.drop(['Country Code','Domain Code','Domain','Element Code','Flag Description','Element','Item','Year Code','Unit','Flag','Item Code'], axis=1, inplace=True)       \n"
   ]
  },
  {
   "cell_type": "code",
   "execution_count": 179,
   "metadata": {
    "collapsed": false
   },
   "outputs": [
    {
     "data": {
      "text/html": [
       "<div>\n",
       "<table border=\"1\" class=\"dataframe\">\n",
       "  <thead>\n",
       "    <tr style=\"text-align: right;\">\n",
       "      <th></th>\n",
       "      <th>Country</th>\n",
       "      <th>Year</th>\n",
       "      <th>Value</th>\n",
       "    </tr>\n",
       "  </thead>\n",
       "  <tbody>\n",
       "    <tr>\n",
       "      <th>0</th>\n",
       "      <td>Algeria</td>\n",
       "      <td>1990</td>\n",
       "      <td>2.1</td>\n",
       "    </tr>\n",
       "  </tbody>\n",
       "</table>\n",
       "</div>"
      ],
      "text/plain": [
       "   Country  Year  Value\n",
       "0  Algeria  1990    2.1"
      ]
     },
     "execution_count": 179,
     "metadata": {},
     "output_type": "execute_result"
    }
   ],
   "source": [
    "df1.head(1)"
   ]
  },
  {
   "cell_type": "code",
   "execution_count": 180,
   "metadata": {
    "collapsed": false
   },
   "outputs": [],
   "source": [
    "#Relevant columns of interest are renamed for easy reference and analysis.\n",
    "df1.rename(columns={\n",
    "    \"Value\":\"People_UnderNourished_millions\"\n",
    "\n",
    "}, inplace=True)\n"
   ]
  },
  {
   "cell_type": "code",
   "execution_count": 181,
   "metadata": {
    "collapsed": false
   },
   "outputs": [
    {
     "data": {
      "text/html": [
       "<div>\n",
       "<table border=\"1\" class=\"dataframe\">\n",
       "  <thead>\n",
       "    <tr style=\"text-align: right;\">\n",
       "      <th></th>\n",
       "      <th>Country</th>\n",
       "      <th>Year</th>\n",
       "      <th>People_UnderNourished_millions</th>\n",
       "    </tr>\n",
       "  </thead>\n",
       "  <tbody>\n",
       "    <tr>\n",
       "      <th>0</th>\n",
       "      <td>Algeria</td>\n",
       "      <td>1990</td>\n",
       "      <td>2.1</td>\n",
       "    </tr>\n",
       "  </tbody>\n",
       "</table>\n",
       "</div>"
      ],
      "text/plain": [
       "   Country  Year  People_UnderNourished_millions\n",
       "0  Algeria  1990                             2.1"
      ]
     },
     "execution_count": 181,
     "metadata": {},
     "output_type": "execute_result"
    }
   ],
   "source": [
    "df1.head(1)"
   ]
  },
  {
   "cell_type": "code",
   "execution_count": 182,
   "metadata": {
    "collapsed": false
   },
   "outputs": [],
   "source": [
    "# df2.isnull().sum()\n"
   ]
  },
  {
   "cell_type": "code",
   "execution_count": 183,
   "metadata": {
    "collapsed": true
   },
   "outputs": [],
   "source": [
    "# #Relevant columns of interest are renamed for easy reference and analysis.\n",
    "# df2.rename(columns={\n",
    "#     \"Value\":\"UnderNourishment_Prevalence\",\n",
    "#     \"Country Code\":\"Country_code\",\n",
    "#     \"Item Code\":\"Item_Code\",\n",
    "#     \"Element Code\":\"Element_Code\",\n",
    "#     \"Domain Code\":\"Domain_Code\",\n",
    "#     \"Year Code\":\"Year_Code\"\n",
    "\n",
    "# }, inplace=True)"
   ]
  },
  {
   "cell_type": "code",
   "execution_count": 184,
   "metadata": {
    "collapsed": true
   },
   "outputs": [],
   "source": [
    "# #Relevant columns of interest are renamed for easy reference and analysis.\n",
    "# df3.rename(columns={\n",
    "#     \"Value\":\"Depth_food_deficit\",\n",
    "#     \"Country Code\":\"Country_code\",\n",
    "#     \"Item Code\":\"Item_Code\",\n",
    "#     \"Element Code\":\"Element_Code\",\n",
    "#     \"Domain Code\":\"Domain_Code\",\n",
    "#     \"Year Code\":\"Year_Code\"\n",
    "\n",
    "# }, inplace=True)"
   ]
  },
  {
   "cell_type": "code",
   "execution_count": 185,
   "metadata": {
    "collapsed": false
   },
   "outputs": [
    {
     "data": {
      "text/plain": [
       "Domain Code             0\n",
       "Domain                  0\n",
       "Area Code               0\n",
       "Area                    0\n",
       "Element Code            0\n",
       "Element                 0\n",
       "Item Code               0\n",
       "Item                    0\n",
       "Year Code               0\n",
       "Year                    0\n",
       "Unit                    0\n",
       "Value                2651\n",
       "Flag                22953\n",
       "Flag Description        0\n",
       "dtype: int64"
      ]
     },
     "execution_count": 185,
     "metadata": {},
     "output_type": "execute_result"
    }
   ],
   "source": [
    "df4.isnull().sum()\n"
   ]
  },
  {
   "cell_type": "code",
   "execution_count": 186,
   "metadata": {
    "collapsed": false
   },
   "outputs": [],
   "source": [
    "#Drop all irrelevant columns\n",
    "df4.drop(['Domain Code','Area Code','Domain','Element Code','Flag Description','Element','Item','Year Code','Unit','Flag','Item Code'], axis=1, inplace=True)       \n"
   ]
  },
  {
   "cell_type": "code",
   "execution_count": 187,
   "metadata": {
    "collapsed": false
   },
   "outputs": [
    {
     "data": {
      "text/html": [
       "<div>\n",
       "<table border=\"1\" class=\"dataframe\">\n",
       "  <thead>\n",
       "    <tr style=\"text-align: right;\">\n",
       "      <th></th>\n",
       "      <th>Area</th>\n",
       "      <th>Year</th>\n",
       "      <th>Value</th>\n",
       "    </tr>\n",
       "  </thead>\n",
       "  <tbody>\n",
       "    <tr>\n",
       "      <th>0</th>\n",
       "      <td>Algeria</td>\n",
       "      <td>1990</td>\n",
       "      <td>11733.0</td>\n",
       "    </tr>\n",
       "  </tbody>\n",
       "</table>\n",
       "</div>"
      ],
      "text/plain": [
       "      Area  Year    Value\n",
       "0  Algeria  1990  11733.0"
      ]
     },
     "execution_count": 187,
     "metadata": {},
     "output_type": "execute_result"
    }
   ],
   "source": [
    "df4.head(1)"
   ]
  },
  {
   "cell_type": "code",
   "execution_count": 188,
   "metadata": {
    "collapsed": true
   },
   "outputs": [],
   "source": [
    "#Relevant columns of interest are renamed for easy reference and analysis.\n",
    "df4.rename(columns={\n",
    "    \"Value\":\"Crop_Production\",\n",
    "    \"Area\":\"Country\",\n",
    "\n",
    "}, inplace=True)"
   ]
  },
  {
   "cell_type": "code",
   "execution_count": 189,
   "metadata": {
    "collapsed": false
   },
   "outputs": [
    {
     "data": {
      "text/html": [
       "<div>\n",
       "<table border=\"1\" class=\"dataframe\">\n",
       "  <thead>\n",
       "    <tr style=\"text-align: right;\">\n",
       "      <th></th>\n",
       "      <th>Country</th>\n",
       "      <th>Year</th>\n",
       "      <th>Crop_Production</th>\n",
       "    </tr>\n",
       "  </thead>\n",
       "  <tbody>\n",
       "    <tr>\n",
       "      <th>0</th>\n",
       "      <td>Algeria</td>\n",
       "      <td>1990</td>\n",
       "      <td>11733.0</td>\n",
       "    </tr>\n",
       "  </tbody>\n",
       "</table>\n",
       "</div>"
      ],
      "text/plain": [
       "   Country  Year  Crop_Production\n",
       "0  Algeria  1990          11733.0"
      ]
     },
     "execution_count": 189,
     "metadata": {},
     "output_type": "execute_result"
    }
   ],
   "source": [
    "df4.head(1)"
   ]
  },
  {
   "cell_type": "code",
   "execution_count": 190,
   "metadata": {
    "collapsed": false
   },
   "outputs": [
    {
     "data": {
      "text/html": [
       "<div>\n",
       "<table border=\"1\" class=\"dataframe\">\n",
       "  <thead>\n",
       "    <tr style=\"text-align: right;\">\n",
       "      <th></th>\n",
       "      <th>Area Code</th>\n",
       "      <th>Element Code</th>\n",
       "      <th>Item Code</th>\n",
       "      <th>Year Code</th>\n",
       "      <th>Year</th>\n",
       "      <th>Value</th>\n",
       "    </tr>\n",
       "  </thead>\n",
       "  <tbody>\n",
       "    <tr>\n",
       "      <th>count</th>\n",
       "      <td>48197.000000</td>\n",
       "      <td>48197.0</td>\n",
       "      <td>48197.000000</td>\n",
       "      <td>48197.000000</td>\n",
       "      <td>48197.000000</td>\n",
       "      <td>4.819700e+04</td>\n",
       "    </tr>\n",
       "    <tr>\n",
       "      <th>mean</th>\n",
       "      <td>137.697056</td>\n",
       "      <td>5419.0</td>\n",
       "      <td>365.046289</td>\n",
       "      <td>2002.243750</td>\n",
       "      <td>2002.243750</td>\n",
       "      <td>6.863586e+04</td>\n",
       "    </tr>\n",
       "    <tr>\n",
       "      <th>std</th>\n",
       "      <td>70.449076</td>\n",
       "      <td>0.0</td>\n",
       "      <td>215.809720</td>\n",
       "      <td>7.165813</td>\n",
       "      <td>7.165813</td>\n",
       "      <td>1.137804e+05</td>\n",
       "    </tr>\n",
       "    <tr>\n",
       "      <th>min</th>\n",
       "      <td>4.000000</td>\n",
       "      <td>5419.0</td>\n",
       "      <td>15.000000</td>\n",
       "      <td>1990.000000</td>\n",
       "      <td>1990.000000</td>\n",
       "      <td>1.110000e+02</td>\n",
       "    </tr>\n",
       "    <tr>\n",
       "      <th>25%</th>\n",
       "      <td>81.000000</td>\n",
       "      <td>5419.0</td>\n",
       "      <td>176.000000</td>\n",
       "      <td>1996.000000</td>\n",
       "      <td>1996.000000</td>\n",
       "      <td>8.578000e+03</td>\n",
       "    </tr>\n",
       "    <tr>\n",
       "      <th>50%</th>\n",
       "      <td>143.000000</td>\n",
       "      <td>5419.0</td>\n",
       "      <td>388.000000</td>\n",
       "      <td>2002.000000</td>\n",
       "      <td>2002.000000</td>\n",
       "      <td>3.285100e+04</td>\n",
       "    </tr>\n",
       "    <tr>\n",
       "      <th>75%</th>\n",
       "      <td>202.000000</td>\n",
       "      <td>5419.0</td>\n",
       "      <td>534.000000</td>\n",
       "      <td>2008.000000</td>\n",
       "      <td>2008.000000</td>\n",
       "      <td>8.228300e+04</td>\n",
       "    </tr>\n",
       "    <tr>\n",
       "      <th>max</th>\n",
       "      <td>277.000000</td>\n",
       "      <td>5419.0</td>\n",
       "      <td>836.000000</td>\n",
       "      <td>2014.000000</td>\n",
       "      <td>2014.000000</td>\n",
       "      <td>1.295748e+06</td>\n",
       "    </tr>\n",
       "  </tbody>\n",
       "</table>\n",
       "</div>"
      ],
      "text/plain": [
       "          Area Code  Element Code     Item Code     Year Code          Year  \\\n",
       "count  48197.000000       48197.0  48197.000000  48197.000000  48197.000000   \n",
       "mean     137.697056        5419.0    365.046289   2002.243750   2002.243750   \n",
       "std       70.449076           0.0    215.809720      7.165813      7.165813   \n",
       "min        4.000000        5419.0     15.000000   1990.000000   1990.000000   \n",
       "25%       81.000000        5419.0    176.000000   1996.000000   1996.000000   \n",
       "50%      143.000000        5419.0    388.000000   2002.000000   2002.000000   \n",
       "75%      202.000000        5419.0    534.000000   2008.000000   2008.000000   \n",
       "max      277.000000        5419.0    836.000000   2014.000000   2014.000000   \n",
       "\n",
       "              Value  \n",
       "count  4.819700e+04  \n",
       "mean   6.863586e+04  \n",
       "std    1.137804e+05  \n",
       "min    1.110000e+02  \n",
       "25%    8.578000e+03  \n",
       "50%    3.285100e+04  \n",
       "75%    8.228300e+04  \n",
       "max    1.295748e+06  "
      ]
     },
     "execution_count": 190,
     "metadata": {},
     "output_type": "execute_result"
    }
   ],
   "source": [
    "df5.describe()"
   ]
  },
  {
   "cell_type": "code",
   "execution_count": 191,
   "metadata": {
    "collapsed": false
   },
   "outputs": [
    {
     "data": {
      "text/plain": [
       "Domain Code         0\n",
       "Domain              0\n",
       "Area Code           0\n",
       "Area                0\n",
       "Element Code        0\n",
       "Element             0\n",
       "Item Code           0\n",
       "Item                0\n",
       "Year Code           0\n",
       "Year                0\n",
       "Unit                0\n",
       "Value               0\n",
       "Flag                0\n",
       "Flag Description    0\n",
       "dtype: int64"
      ]
     },
     "execution_count": 191,
     "metadata": {},
     "output_type": "execute_result"
    }
   ],
   "source": [
    "df5.isnull().sum()\n"
   ]
  },
  {
   "cell_type": "code",
   "execution_count": 192,
   "metadata": {
    "collapsed": true
   },
   "outputs": [],
   "source": [
    "#Drop all irrelevant columns\n",
    "df5.drop(['Domain Code','Area Code','Domain','Element Code','Flag Description','Element','Item','Year Code','Unit','Flag','Item Code'], axis=1, inplace=True)       \n"
   ]
  },
  {
   "cell_type": "code",
   "execution_count": 193,
   "metadata": {
    "collapsed": false
   },
   "outputs": [
    {
     "data": {
      "text/html": [
       "<div>\n",
       "<table border=\"1\" class=\"dataframe\">\n",
       "  <thead>\n",
       "    <tr style=\"text-align: right;\">\n",
       "      <th></th>\n",
       "      <th>Area</th>\n",
       "      <th>Year</th>\n",
       "      <th>Value</th>\n",
       "    </tr>\n",
       "  </thead>\n",
       "  <tbody>\n",
       "    <tr>\n",
       "      <th>0</th>\n",
       "      <td>Algeria</td>\n",
       "      <td>1990</td>\n",
       "      <td>4691</td>\n",
       "    </tr>\n",
       "  </tbody>\n",
       "</table>\n",
       "</div>"
      ],
      "text/plain": [
       "      Area  Year  Value\n",
       "0  Algeria  1990   4691"
      ]
     },
     "execution_count": 193,
     "metadata": {},
     "output_type": "execute_result"
    }
   ],
   "source": [
    "df5.head(1)"
   ]
  },
  {
   "cell_type": "code",
   "execution_count": 194,
   "metadata": {
    "collapsed": false
   },
   "outputs": [],
   "source": [
    "#Relevant columns of interest are renamed for easy reference and analysis.\n",
    "df5.rename(columns={\n",
    "    \"Value\":\"Crop_Production\",\n",
    "    \"Area\":\"Country\"\n",
    "\n",
    "}, inplace=True)"
   ]
  },
  {
   "cell_type": "code",
   "execution_count": 195,
   "metadata": {
    "collapsed": false
   },
   "outputs": [
    {
     "data": {
      "text/html": [
       "<div>\n",
       "<table border=\"1\" class=\"dataframe\">\n",
       "  <thead>\n",
       "    <tr style=\"text-align: right;\">\n",
       "      <th></th>\n",
       "      <th>Country</th>\n",
       "      <th>Year</th>\n",
       "      <th>Crop_Production</th>\n",
       "    </tr>\n",
       "  </thead>\n",
       "  <tbody>\n",
       "    <tr>\n",
       "      <th>0</th>\n",
       "      <td>Algeria</td>\n",
       "      <td>1990</td>\n",
       "      <td>4691</td>\n",
       "    </tr>\n",
       "  </tbody>\n",
       "</table>\n",
       "</div>"
      ],
      "text/plain": [
       "   Country  Year  Crop_Production\n",
       "0  Algeria  1990             4691"
      ]
     },
     "execution_count": 195,
     "metadata": {},
     "output_type": "execute_result"
    }
   ],
   "source": [
    "df5.head(1)"
   ]
  },
  {
   "cell_type": "code",
   "execution_count": 196,
   "metadata": {
    "collapsed": false
   },
   "outputs": [
    {
     "data": {
      "text/plain": [
       "Domain Code         0\n",
       "Domain              0\n",
       "Area Code           0\n",
       "Area                0\n",
       "Element Code        0\n",
       "Element             0\n",
       "Item Code           0\n",
       "Item                0\n",
       "Year Code           0\n",
       "Year                0\n",
       "Unit                0\n",
       "Value               0\n",
       "Flag                0\n",
       "Flag Description    0\n",
       "dtype: int64"
      ]
     },
     "execution_count": 196,
     "metadata": {},
     "output_type": "execute_result"
    }
   ],
   "source": [
    "df6.isnull().sum()\n"
   ]
  },
  {
   "cell_type": "code",
   "execution_count": 197,
   "metadata": {
    "collapsed": true
   },
   "outputs": [],
   "source": [
    "#Drop all irrelevant columns\n",
    "df6.drop(['Domain Code','Area Code','Domain','Element Code','Flag Description','Element','Item','Year Code','Unit','Flag','Item Code'], axis=1, inplace=True)       \n"
   ]
  },
  {
   "cell_type": "code",
   "execution_count": 198,
   "metadata": {
    "collapsed": false
   },
   "outputs": [
    {
     "data": {
      "text/html": [
       "<div>\n",
       "<table border=\"1\" class=\"dataframe\">\n",
       "  <thead>\n",
       "    <tr style=\"text-align: right;\">\n",
       "      <th></th>\n",
       "      <th>Area</th>\n",
       "      <th>Year</th>\n",
       "      <th>Value</th>\n",
       "    </tr>\n",
       "  </thead>\n",
       "  <tbody>\n",
       "    <tr>\n",
       "      <th>0</th>\n",
       "      <td>Angola</td>\n",
       "      <td>1990</td>\n",
       "      <td>1658.358611</td>\n",
       "    </tr>\n",
       "  </tbody>\n",
       "</table>\n",
       "</div>"
      ],
      "text/plain": [
       "     Area  Year        Value\n",
       "0  Angola  1990  1658.358611"
      ]
     },
     "execution_count": 198,
     "metadata": {},
     "output_type": "execute_result"
    }
   ],
   "source": [
    "df6.head(1)"
   ]
  },
  {
   "cell_type": "code",
   "execution_count": 199,
   "metadata": {
    "collapsed": true
   },
   "outputs": [],
   "source": [
    "#Relevant columns of interest are renamed for easy reference and analysis.\n",
    "df6.rename(columns={\n",
    "    \"Value\":\"Agric_Value_Added_USD\",\n",
    "    \"Area\":\"Country\"\n",
    "  \n",
    "}, inplace=True)"
   ]
  },
  {
   "cell_type": "code",
   "execution_count": 200,
   "metadata": {
    "collapsed": false
   },
   "outputs": [
    {
     "data": {
      "text/html": [
       "<div>\n",
       "<table border=\"1\" class=\"dataframe\">\n",
       "  <thead>\n",
       "    <tr style=\"text-align: right;\">\n",
       "      <th></th>\n",
       "      <th>Country</th>\n",
       "      <th>Year</th>\n",
       "      <th>Agric_Value_Added_USD</th>\n",
       "    </tr>\n",
       "  </thead>\n",
       "  <tbody>\n",
       "    <tr>\n",
       "      <th>0</th>\n",
       "      <td>Angola</td>\n",
       "      <td>1990</td>\n",
       "      <td>1658.358611</td>\n",
       "    </tr>\n",
       "  </tbody>\n",
       "</table>\n",
       "</div>"
      ],
      "text/plain": [
       "  Country  Year  Agric_Value_Added_USD\n",
       "0  Angola  1990            1658.358611"
      ]
     },
     "execution_count": 200,
     "metadata": {},
     "output_type": "execute_result"
    }
   ],
   "source": [
    "df6.head(1)"
   ]
  },
  {
   "cell_type": "code",
   "execution_count": 201,
   "metadata": {
    "collapsed": false
   },
   "outputs": [
    {
     "data": {
      "text/plain": [
       "Domain Code            0\n",
       "Domain                 0\n",
       "Area Code              0\n",
       "Area                   0\n",
       "Element Code           0\n",
       "Element                0\n",
       "Item Code              0\n",
       "Item                   0\n",
       "Year Code              0\n",
       "Year                   0\n",
       "Unit                1256\n",
       "Value                  0\n",
       "Flag                   0\n",
       "Flag Description       0\n",
       "dtype: int64"
      ]
     },
     "execution_count": 201,
     "metadata": {},
     "output_type": "execute_result"
    }
   ],
   "source": [
    "df7.isnull().sum()\n"
   ]
  },
  {
   "cell_type": "code",
   "execution_count": 202,
   "metadata": {
    "collapsed": true
   },
   "outputs": [],
   "source": [
    "#Drop all irrelevant columns\n",
    "df7.drop(['Domain Code','Area Code','Domain','Element Code','Flag Description','Element','Item','Year Code','Unit','Flag','Item Code'], axis=1, inplace=True)       \n"
   ]
  },
  {
   "cell_type": "code",
   "execution_count": 203,
   "metadata": {
    "collapsed": false
   },
   "outputs": [
    {
     "data": {
      "text/html": [
       "<div>\n",
       "<table border=\"1\" class=\"dataframe\">\n",
       "  <thead>\n",
       "    <tr style=\"text-align: right;\">\n",
       "      <th></th>\n",
       "      <th>Area</th>\n",
       "      <th>Year</th>\n",
       "      <th>Value</th>\n",
       "    </tr>\n",
       "  </thead>\n",
       "  <tbody>\n",
       "    <tr>\n",
       "      <th>0</th>\n",
       "      <td>Angola</td>\n",
       "      <td>1990</td>\n",
       "      <td>1891.496758</td>\n",
       "    </tr>\n",
       "  </tbody>\n",
       "</table>\n",
       "</div>"
      ],
      "text/plain": [
       "     Area  Year        Value\n",
       "0  Angola  1990  1891.496758"
      ]
     },
     "execution_count": 203,
     "metadata": {},
     "output_type": "execute_result"
    }
   ],
   "source": [
    "df7.head(1)"
   ]
  },
  {
   "cell_type": "code",
   "execution_count": 204,
   "metadata": {
    "collapsed": true
   },
   "outputs": [],
   "source": [
    "#Relevant columns of interest are renamed for easy reference and analysis.\n",
    "df7.rename(columns={\n",
    "    \"Value\":\"GDP_Per_Capita_USD\",\n",
    "    \"Area\":\"Country\"\n",
    " \n",
    "\n",
    "}, inplace=True)"
   ]
  },
  {
   "cell_type": "code",
   "execution_count": 205,
   "metadata": {
    "collapsed": false
   },
   "outputs": [
    {
     "data": {
      "text/html": [
       "<div>\n",
       "<table border=\"1\" class=\"dataframe\">\n",
       "  <thead>\n",
       "    <tr style=\"text-align: right;\">\n",
       "      <th></th>\n",
       "      <th>Country</th>\n",
       "      <th>Year</th>\n",
       "      <th>GDP_Per_Capita_USD</th>\n",
       "    </tr>\n",
       "  </thead>\n",
       "  <tbody>\n",
       "    <tr>\n",
       "      <th>0</th>\n",
       "      <td>Angola</td>\n",
       "      <td>1990</td>\n",
       "      <td>1891.496758</td>\n",
       "    </tr>\n",
       "  </tbody>\n",
       "</table>\n",
       "</div>"
      ],
      "text/plain": [
       "  Country  Year  GDP_Per_Capita_USD\n",
       "0  Angola  1990         1891.496758"
      ]
     },
     "execution_count": 205,
     "metadata": {},
     "output_type": "execute_result"
    }
   ],
   "source": [
    "df7.head(1)"
   ]
  },
  {
   "cell_type": "code",
   "execution_count": 206,
   "metadata": {
    "collapsed": false
   },
   "outputs": [
    {
     "data": {
      "text/plain": [
       "Domain Code         0\n",
       "Domain              0\n",
       "Country Code        0\n",
       "Country             0\n",
       "Indicator Code      0\n",
       "Indicator           0\n",
       "Source Code         0\n",
       "Source              0\n",
       "Year Code           0\n",
       "Year                0\n",
       "Unit                0\n",
       "Value               0\n",
       "Flag                0\n",
       "Flag Description    0\n",
       "dtype: int64"
      ]
     },
     "execution_count": 206,
     "metadata": {},
     "output_type": "execute_result"
    }
   ],
   "source": [
    "df8.isnull().sum()\n"
   ]
  },
  {
   "cell_type": "code",
   "execution_count": 207,
   "metadata": {
    "collapsed": false
   },
   "outputs": [],
   "source": [
    "#Drop all irrelevant columns\n",
    "df8.drop(['Domain Code','Source Code','Domain','Country Code','Flag Description','Indicator Code','Indicator','Year Code','Unit','Flag','Source'], axis=1, inplace=True)       \n"
   ]
  },
  {
   "cell_type": "code",
   "execution_count": 208,
   "metadata": {
    "collapsed": false
   },
   "outputs": [
    {
     "data": {
      "text/html": [
       "<div>\n",
       "<table border=\"1\" class=\"dataframe\">\n",
       "  <thead>\n",
       "    <tr style=\"text-align: right;\">\n",
       "      <th></th>\n",
       "      <th>Country</th>\n",
       "      <th>Year</th>\n",
       "      <th>Value</th>\n",
       "    </tr>\n",
       "  </thead>\n",
       "  <tbody>\n",
       "    <tr>\n",
       "      <th>0</th>\n",
       "      <td>Algeria</td>\n",
       "      <td>2001</td>\n",
       "      <td>1312.1</td>\n",
       "    </tr>\n",
       "  </tbody>\n",
       "</table>\n",
       "</div>"
      ],
      "text/plain": [
       "   Country  Year   Value\n",
       "0  Algeria  2001  1312.1"
      ]
     },
     "execution_count": 208,
     "metadata": {},
     "output_type": "execute_result"
    }
   ],
   "source": [
    "df8.head(1)"
   ]
  },
  {
   "cell_type": "code",
   "execution_count": 209,
   "metadata": {
    "collapsed": true
   },
   "outputs": [],
   "source": [
    "#Relevant columns of interest are renamed for easy reference and analysis.\n",
    "df8.rename(columns={\n",
    "    \"Value\":\"GDP_Per_Capita_USD\"\n",
    "   \n",
    "\n",
    "}, inplace=True)"
   ]
  },
  {
   "cell_type": "code",
   "execution_count": 210,
   "metadata": {
    "collapsed": false
   },
   "outputs": [
    {
     "data": {
      "text/html": [
       "<div>\n",
       "<table border=\"1\" class=\"dataframe\">\n",
       "  <thead>\n",
       "    <tr style=\"text-align: right;\">\n",
       "      <th></th>\n",
       "      <th>Country</th>\n",
       "      <th>Year</th>\n",
       "      <th>GDP_Per_Capita_USD</th>\n",
       "    </tr>\n",
       "  </thead>\n",
       "  <tbody>\n",
       "    <tr>\n",
       "      <th>0</th>\n",
       "      <td>Algeria</td>\n",
       "      <td>2001</td>\n",
       "      <td>1312.1</td>\n",
       "    </tr>\n",
       "  </tbody>\n",
       "</table>\n",
       "</div>"
      ],
      "text/plain": [
       "   Country  Year  GDP_Per_Capita_USD\n",
       "0  Algeria  2001              1312.1"
      ]
     },
     "execution_count": 210,
     "metadata": {},
     "output_type": "execute_result"
    }
   ],
   "source": [
    "df8.head(1)"
   ]
  },
  {
   "cell_type": "code",
   "execution_count": 211,
   "metadata": {
    "collapsed": false
   },
   "outputs": [
    {
     "data": {
      "text/plain": [
       "Domain Code         0\n",
       "Domain              0\n",
       "Country Code        0\n",
       "Country             0\n",
       "Element Code        0\n",
       "Element             0\n",
       "Item Code           0\n",
       "Item                0\n",
       "Year Code           0\n",
       "Year                0\n",
       "Unit                0\n",
       "Value               0\n",
       "Flag                0\n",
       "Flag Description    0\n",
       "dtype: int64"
      ]
     },
     "execution_count": 211,
     "metadata": {},
     "output_type": "execute_result"
    }
   ],
   "source": [
    "df9.isnull().sum()\n"
   ]
  },
  {
   "cell_type": "code",
   "execution_count": 212,
   "metadata": {
    "collapsed": false
   },
   "outputs": [],
   "source": [
    "df9.drop(['Domain Code','Domain','Country Code','Flag Description','Item Code','Item','Year Code','Unit','Flag','Element','Element Code'], axis=1, inplace=True)       \n"
   ]
  },
  {
   "cell_type": "code",
   "execution_count": 213,
   "metadata": {
    "collapsed": false
   },
   "outputs": [
    {
     "data": {
      "text/html": [
       "<div>\n",
       "<table border=\"1\" class=\"dataframe\">\n",
       "  <thead>\n",
       "    <tr style=\"text-align: right;\">\n",
       "      <th></th>\n",
       "      <th>Country</th>\n",
       "      <th>Year</th>\n",
       "      <th>Value</th>\n",
       "    </tr>\n",
       "  </thead>\n",
       "  <tbody>\n",
       "    <tr>\n",
       "      <th>0</th>\n",
       "      <td>Algeria</td>\n",
       "      <td>1990</td>\n",
       "      <td>25912.364</td>\n",
       "    </tr>\n",
       "  </tbody>\n",
       "</table>\n",
       "</div>"
      ],
      "text/plain": [
       "   Country  Year      Value\n",
       "0  Algeria  1990  25912.364"
      ]
     },
     "execution_count": 213,
     "metadata": {},
     "output_type": "execute_result"
    }
   ],
   "source": [
    "df9.head(1)"
   ]
  },
  {
   "cell_type": "code",
   "execution_count": 214,
   "metadata": {
    "collapsed": true
   },
   "outputs": [],
   "source": [
    "#Relevant columns of interest are renamed for easy reference and analysis.\n",
    "df9.rename(columns={\n",
    "    \"Value\":\"Total_Population_millions\"\n",
    "   \n",
    "\n",
    "}, inplace=True)"
   ]
  },
  {
   "cell_type": "code",
   "execution_count": 215,
   "metadata": {
    "collapsed": false
   },
   "outputs": [
    {
     "data": {
      "text/html": [
       "<div>\n",
       "<table border=\"1\" class=\"dataframe\">\n",
       "  <thead>\n",
       "    <tr style=\"text-align: right;\">\n",
       "      <th></th>\n",
       "      <th>Country</th>\n",
       "      <th>Year</th>\n",
       "      <th>Total_Population_millions</th>\n",
       "    </tr>\n",
       "  </thead>\n",
       "  <tbody>\n",
       "    <tr>\n",
       "      <th>0</th>\n",
       "      <td>Algeria</td>\n",
       "      <td>1990</td>\n",
       "      <td>25912.364</td>\n",
       "    </tr>\n",
       "  </tbody>\n",
       "</table>\n",
       "</div>"
      ],
      "text/plain": [
       "   Country  Year  Total_Population_millions\n",
       "0  Algeria  1990                  25912.364"
      ]
     },
     "execution_count": 215,
     "metadata": {},
     "output_type": "execute_result"
    }
   ],
   "source": [
    "df9.head(1)"
   ]
  },
  {
   "cell_type": "code",
   "execution_count": 216,
   "metadata": {
    "collapsed": false
   },
   "outputs": [
    {
     "data": {
      "text/plain": [
       "Domain Code         0\n",
       "Domain              0\n",
       "Country Code        0\n",
       "Country             0\n",
       "Element Code        0\n",
       "Element             0\n",
       "Item Code           0\n",
       "Item                0\n",
       "Year Code           0\n",
       "Year                0\n",
       "Unit                0\n",
       "Value               0\n",
       "Flag                0\n",
       "Flag Description    0\n",
       "dtype: int64"
      ]
     },
     "execution_count": 216,
     "metadata": {},
     "output_type": "execute_result"
    }
   ],
   "source": [
    "df10.isnull().sum()\n"
   ]
  },
  {
   "cell_type": "code",
   "execution_count": 217,
   "metadata": {
    "collapsed": true
   },
   "outputs": [],
   "source": [
    "df10.drop(['Domain Code','Domain','Country Code','Flag Description','Item Code','Item','Year Code','Unit','Flag','Element','Element Code'], axis=1, inplace=True)       \n"
   ]
  },
  {
   "cell_type": "code",
   "execution_count": 218,
   "metadata": {
    "collapsed": false
   },
   "outputs": [
    {
     "data": {
      "text/html": [
       "<div>\n",
       "<table border=\"1\" class=\"dataframe\">\n",
       "  <thead>\n",
       "    <tr style=\"text-align: right;\">\n",
       "      <th></th>\n",
       "      <th>Country</th>\n",
       "      <th>Year</th>\n",
       "      <th>Value</th>\n",
       "    </tr>\n",
       "  </thead>\n",
       "  <tbody>\n",
       "    <tr>\n",
       "      <th>0</th>\n",
       "      <td>Algeria</td>\n",
       "      <td>1990</td>\n",
       "      <td>13666.998</td>\n",
       "    </tr>\n",
       "  </tbody>\n",
       "</table>\n",
       "</div>"
      ],
      "text/plain": [
       "   Country  Year      Value\n",
       "0  Algeria  1990  13666.998"
      ]
     },
     "execution_count": 218,
     "metadata": {},
     "output_type": "execute_result"
    }
   ],
   "source": [
    "df10.head(1)"
   ]
  },
  {
   "cell_type": "code",
   "execution_count": 219,
   "metadata": {
    "collapsed": true
   },
   "outputs": [],
   "source": [
    "#Relevant columns of interest are renamed for easy reference and analysis.\n",
    "df10.rename(columns={\n",
    "    \"Value\":\"Urban_Population\"\n",
    "\n",
    "}, inplace=True)"
   ]
  },
  {
   "cell_type": "code",
   "execution_count": 220,
   "metadata": {
    "collapsed": false
   },
   "outputs": [
    {
     "data": {
      "text/html": [
       "<div>\n",
       "<table border=\"1\" class=\"dataframe\">\n",
       "  <thead>\n",
       "    <tr style=\"text-align: right;\">\n",
       "      <th></th>\n",
       "      <th>Country</th>\n",
       "      <th>Year</th>\n",
       "      <th>Urban_Population</th>\n",
       "    </tr>\n",
       "  </thead>\n",
       "  <tbody>\n",
       "    <tr>\n",
       "      <th>0</th>\n",
       "      <td>Algeria</td>\n",
       "      <td>1990</td>\n",
       "      <td>13666.998</td>\n",
       "    </tr>\n",
       "  </tbody>\n",
       "</table>\n",
       "</div>"
      ],
      "text/plain": [
       "   Country  Year  Urban_Population\n",
       "0  Algeria  1990         13666.998"
      ]
     },
     "execution_count": 220,
     "metadata": {},
     "output_type": "execute_result"
    }
   ],
   "source": [
    "df10.head(1)"
   ]
  },
  {
   "cell_type": "code",
   "execution_count": 221,
   "metadata": {
    "collapsed": false
   },
   "outputs": [
    {
     "data": {
      "text/plain": [
       "Domain Code         0\n",
       "Domain              0\n",
       "Country Code        0\n",
       "Country             0\n",
       "Element Code        0\n",
       "Element             0\n",
       "Item Code           0\n",
       "Item                0\n",
       "Year Code           0\n",
       "Year                0\n",
       "Unit                0\n",
       "Value               0\n",
       "Flag                0\n",
       "Flag Description    0\n",
       "dtype: int64"
      ]
     },
     "execution_count": 221,
     "metadata": {},
     "output_type": "execute_result"
    }
   ],
   "source": [
    "df11.isnull().sum()\n"
   ]
  },
  {
   "cell_type": "code",
   "execution_count": 222,
   "metadata": {
    "collapsed": true
   },
   "outputs": [],
   "source": [
    "df11.drop(['Domain Code','Domain','Country Code','Flag Description','Item Code','Item','Year Code','Unit','Flag','Element','Element Code'], axis=1, inplace=True)       \n"
   ]
  },
  {
   "cell_type": "code",
   "execution_count": 223,
   "metadata": {
    "collapsed": false
   },
   "outputs": [
    {
     "data": {
      "text/html": [
       "<div>\n",
       "<table border=\"1\" class=\"dataframe\">\n",
       "  <thead>\n",
       "    <tr style=\"text-align: right;\">\n",
       "      <th></th>\n",
       "      <th>Country</th>\n",
       "      <th>Year</th>\n",
       "      <th>Value</th>\n",
       "    </tr>\n",
       "  </thead>\n",
       "  <tbody>\n",
       "    <tr>\n",
       "      <th>0</th>\n",
       "      <td>Algeria</td>\n",
       "      <td>1990</td>\n",
       "      <td>12573</td>\n",
       "    </tr>\n",
       "  </tbody>\n",
       "</table>\n",
       "</div>"
      ],
      "text/plain": [
       "   Country  Year  Value\n",
       "0  Algeria  1990  12573"
      ]
     },
     "execution_count": 223,
     "metadata": {},
     "output_type": "execute_result"
    }
   ],
   "source": [
    "df11.head(1)"
   ]
  },
  {
   "cell_type": "code",
   "execution_count": 224,
   "metadata": {
    "collapsed": true
   },
   "outputs": [],
   "source": [
    "#Relevant columns of interest are renamed for easy reference and analysis.\n",
    "df11.rename(columns={\n",
    "    \"Value\":\"Rural_Population\"\n",
    "\n",
    "\n",
    "}, inplace=True)"
   ]
  },
  {
   "cell_type": "code",
   "execution_count": 225,
   "metadata": {
    "collapsed": false
   },
   "outputs": [
    {
     "data": {
      "text/html": [
       "<div>\n",
       "<table border=\"1\" class=\"dataframe\">\n",
       "  <thead>\n",
       "    <tr style=\"text-align: right;\">\n",
       "      <th></th>\n",
       "      <th>Country</th>\n",
       "      <th>Year</th>\n",
       "      <th>Rural_Population</th>\n",
       "    </tr>\n",
       "  </thead>\n",
       "  <tbody>\n",
       "    <tr>\n",
       "      <th>0</th>\n",
       "      <td>Algeria</td>\n",
       "      <td>1990</td>\n",
       "      <td>12573</td>\n",
       "    </tr>\n",
       "  </tbody>\n",
       "</table>\n",
       "</div>"
      ],
      "text/plain": [
       "   Country  Year  Rural_Population\n",
       "0  Algeria  1990             12573"
      ]
     },
     "execution_count": 225,
     "metadata": {},
     "output_type": "execute_result"
    }
   ],
   "source": [
    "df11.head(1)"
   ]
  },
  {
   "cell_type": "code",
   "execution_count": 226,
   "metadata": {
    "collapsed": false
   },
   "outputs": [
    {
     "data": {
      "text/plain": [
       "Domain Code         0\n",
       "Domain              0\n",
       "Country Code        0\n",
       "Country             0\n",
       "Element Code        0\n",
       "Element             0\n",
       "Item Code           0\n",
       "Item                0\n",
       "Year Code           0\n",
       "Year                0\n",
       "Unit                0\n",
       "Value               0\n",
       "Flag                0\n",
       "Flag Description    0\n",
       "dtype: int64"
      ]
     },
     "execution_count": 226,
     "metadata": {},
     "output_type": "execute_result"
    }
   ],
   "source": [
    "df12.isnull().sum()"
   ]
  },
  {
   "cell_type": "code",
   "execution_count": 227,
   "metadata": {
    "collapsed": true
   },
   "outputs": [],
   "source": [
    "df12.drop(['Domain Code','Domain','Country Code','Flag Description','Item Code','Item','Year Code','Unit','Flag','Element','Element Code'], axis=1, inplace=True)       \n"
   ]
  },
  {
   "cell_type": "code",
   "execution_count": 228,
   "metadata": {
    "collapsed": false
   },
   "outputs": [
    {
     "data": {
      "text/html": [
       "<div>\n",
       "<table border=\"1\" class=\"dataframe\">\n",
       "  <thead>\n",
       "    <tr style=\"text-align: right;\">\n",
       "      <th></th>\n",
       "      <th>Country</th>\n",
       "      <th>Year</th>\n",
       "      <th>Value</th>\n",
       "    </tr>\n",
       "  </thead>\n",
       "  <tbody>\n",
       "    <tr>\n",
       "      <th>0</th>\n",
       "      <td>Algeria</td>\n",
       "      <td>1991</td>\n",
       "      <td>113.57</td>\n",
       "    </tr>\n",
       "  </tbody>\n",
       "</table>\n",
       "</div>"
      ],
      "text/plain": [
       "   Country  Year   Value\n",
       "0  Algeria  1991  113.57"
      ]
     },
     "execution_count": 228,
     "metadata": {},
     "output_type": "execute_result"
    }
   ],
   "source": [
    "df12.head(1)"
   ]
  },
  {
   "cell_type": "code",
   "execution_count": 229,
   "metadata": {
    "collapsed": true
   },
   "outputs": [],
   "source": [
    "#Relevant columns of interest are renamed for easy reference and analysis.\n",
    "df12.rename(columns={\n",
    "    \"Value\":\"Total_FDI_Inflows\"\n",
    "  \n",
    "\n",
    "}, inplace=True)"
   ]
  },
  {
   "cell_type": "code",
   "execution_count": 230,
   "metadata": {
    "collapsed": false
   },
   "outputs": [
    {
     "data": {
      "text/html": [
       "<div>\n",
       "<table border=\"1\" class=\"dataframe\">\n",
       "  <thead>\n",
       "    <tr style=\"text-align: right;\">\n",
       "      <th></th>\n",
       "      <th>Country</th>\n",
       "      <th>Year</th>\n",
       "      <th>Total_FDI_Inflows</th>\n",
       "    </tr>\n",
       "  </thead>\n",
       "  <tbody>\n",
       "    <tr>\n",
       "      <th>0</th>\n",
       "      <td>Algeria</td>\n",
       "      <td>1991</td>\n",
       "      <td>113.57</td>\n",
       "    </tr>\n",
       "  </tbody>\n",
       "</table>\n",
       "</div>"
      ],
      "text/plain": [
       "   Country  Year  Total_FDI_Inflows\n",
       "0  Algeria  1991             113.57"
      ]
     },
     "execution_count": 230,
     "metadata": {},
     "output_type": "execute_result"
    }
   ],
   "source": [
    "df12.head(1)"
   ]
  },
  {
   "cell_type": "code",
   "execution_count": 231,
   "metadata": {
    "collapsed": false
   },
   "outputs": [
    {
     "data": {
      "text/plain": [
       "Domain Code         0\n",
       "Domain              0\n",
       "Country Code        0\n",
       "Country             0\n",
       "Element Code        0\n",
       "Element             0\n",
       "Item Code           0\n",
       "Item                0\n",
       "Year Code           0\n",
       "Year                0\n",
       "Unit                0\n",
       "Value               0\n",
       "Flag                0\n",
       "Flag Description    0\n",
       "dtype: int64"
      ]
     },
     "execution_count": 231,
     "metadata": {},
     "output_type": "execute_result"
    }
   ],
   "source": [
    "df13.isnull().sum()\n"
   ]
  },
  {
   "cell_type": "code",
   "execution_count": 232,
   "metadata": {
    "collapsed": true
   },
   "outputs": [],
   "source": [
    "df13.drop(['Domain Code','Domain','Country Code','Flag Description','Item Code','Item','Year Code','Unit','Flag','Element','Element Code'], axis=1, inplace=True)       \n"
   ]
  },
  {
   "cell_type": "code",
   "execution_count": 233,
   "metadata": {
    "collapsed": false
   },
   "outputs": [
    {
     "data": {
      "text/html": [
       "<div>\n",
       "<table border=\"1\" class=\"dataframe\">\n",
       "  <thead>\n",
       "    <tr style=\"text-align: right;\">\n",
       "      <th></th>\n",
       "      <th>Country</th>\n",
       "      <th>Year</th>\n",
       "      <th>Value</th>\n",
       "    </tr>\n",
       "  </thead>\n",
       "  <tbody>\n",
       "    <tr>\n",
       "      <th>0</th>\n",
       "      <td>Algeria</td>\n",
       "      <td>2005</td>\n",
       "      <td>12.8</td>\n",
       "    </tr>\n",
       "  </tbody>\n",
       "</table>\n",
       "</div>"
      ],
      "text/plain": [
       "   Country  Year  Value\n",
       "0  Algeria  2005   12.8"
      ]
     },
     "execution_count": 233,
     "metadata": {},
     "output_type": "execute_result"
    }
   ],
   "source": [
    "df13.head(1)"
   ]
  },
  {
   "cell_type": "code",
   "execution_count": 234,
   "metadata": {
    "collapsed": true
   },
   "outputs": [],
   "source": [
    "#Relevant columns of interest are renamed for easy reference and analysis.\n",
    "df13.rename(columns={\n",
    "    \"Value\":\"FDI_Inflows_Agric\"\n",
    " \n",
    "\n",
    "}, inplace=True)"
   ]
  },
  {
   "cell_type": "code",
   "execution_count": 235,
   "metadata": {
    "collapsed": false
   },
   "outputs": [
    {
     "data": {
      "text/html": [
       "<div>\n",
       "<table border=\"1\" class=\"dataframe\">\n",
       "  <thead>\n",
       "    <tr style=\"text-align: right;\">\n",
       "      <th></th>\n",
       "      <th>Country</th>\n",
       "      <th>Year</th>\n",
       "      <th>FDI_Inflows_Agric</th>\n",
       "    </tr>\n",
       "  </thead>\n",
       "  <tbody>\n",
       "    <tr>\n",
       "      <th>0</th>\n",
       "      <td>Algeria</td>\n",
       "      <td>2005</td>\n",
       "      <td>12.8</td>\n",
       "    </tr>\n",
       "  </tbody>\n",
       "</table>\n",
       "</div>"
      ],
      "text/plain": [
       "   Country  Year  FDI_Inflows_Agric\n",
       "0  Algeria  2005               12.8"
      ]
     },
     "execution_count": 235,
     "metadata": {},
     "output_type": "execute_result"
    }
   ],
   "source": [
    "df13.head(1)"
   ]
  },
  {
   "cell_type": "code",
   "execution_count": 236,
   "metadata": {
    "collapsed": false
   },
   "outputs": [
    {
     "data": {
      "text/plain": [
       "Domain Code                  0\n",
       "Domain                       0\n",
       "Donor Code                   0\n",
       "Donor                        0\n",
       "Recipient Country Code       0\n",
       "Recipient Country            0\n",
       "Element Code                 0\n",
       "Element                      0\n",
       "Item Code                    0\n",
       "Item                         0\n",
       "Purpose Code                 0\n",
       "Purpose                      0\n",
       "Year Code                    0\n",
       "Year                         0\n",
       "Unit                         0\n",
       "Value                     1241\n",
       "Flag                         0\n",
       "Flag Description             0\n",
       "dtype: int64"
      ]
     },
     "execution_count": 236,
     "metadata": {},
     "output_type": "execute_result"
    }
   ],
   "source": [
    "df14.isnull().sum()\n"
   ]
  },
  {
   "cell_type": "code",
   "execution_count": 237,
   "metadata": {
    "collapsed": false
   },
   "outputs": [
    {
     "data": {
      "text/html": [
       "<div>\n",
       "<table border=\"1\" class=\"dataframe\">\n",
       "  <thead>\n",
       "    <tr style=\"text-align: right;\">\n",
       "      <th></th>\n",
       "      <th>Recipient Country</th>\n",
       "      <th>Year</th>\n",
       "      <th>Value</th>\n",
       "    </tr>\n",
       "  </thead>\n",
       "  <tbody>\n",
       "    <tr>\n",
       "      <th>0</th>\n",
       "      <td>Angola</td>\n",
       "      <td>2004</td>\n",
       "      <td>0.09</td>\n",
       "    </tr>\n",
       "  </tbody>\n",
       "</table>\n",
       "</div>"
      ],
      "text/plain": [
       "  Recipient Country  Year  Value\n",
       "0            Angola  2004   0.09"
      ]
     },
     "execution_count": 237,
     "metadata": {},
     "output_type": "execute_result"
    }
   ],
   "source": [
    "df14.drop(['Domain Code','Item','Domain Code','Donor','Recipient Country Code','Purpose Code','Purpose','Year Code','Donor Code','Element Code','Element','Item Code','Flag','Flag Description','Unit','Domain'], axis=1, inplace=True)       \n",
    "df14.head(1)"
   ]
  },
  {
   "cell_type": "code",
   "execution_count": 238,
   "metadata": {
    "collapsed": false
   },
   "outputs": [],
   "source": [
    "#Relevant columns of interest are renamed for easy reference and analysis.\n",
    "df14.rename(columns={\n",
    "    \"Value\":\"ODA__Crop_Production\",\n",
    "    \"Recipient Country\":\"Country\"\n",
    "  \n",
    "\n",
    "}, inplace=True)\n"
   ]
  },
  {
   "cell_type": "code",
   "execution_count": 239,
   "metadata": {
    "collapsed": false
   },
   "outputs": [
    {
     "data": {
      "text/html": [
       "<div>\n",
       "<table border=\"1\" class=\"dataframe\">\n",
       "  <thead>\n",
       "    <tr style=\"text-align: right;\">\n",
       "      <th></th>\n",
       "      <th>Country</th>\n",
       "      <th>Year</th>\n",
       "      <th>ODA__Crop_Production</th>\n",
       "    </tr>\n",
       "  </thead>\n",
       "  <tbody>\n",
       "    <tr>\n",
       "      <th>0</th>\n",
       "      <td>Angola</td>\n",
       "      <td>2004</td>\n",
       "      <td>0.09</td>\n",
       "    </tr>\n",
       "  </tbody>\n",
       "</table>\n",
       "</div>"
      ],
      "text/plain": [
       "  Country  Year  ODA__Crop_Production\n",
       "0  Angola  2004                  0.09"
      ]
     },
     "execution_count": 239,
     "metadata": {},
     "output_type": "execute_result"
    }
   ],
   "source": [
    "df14.head(1)"
   ]
  },
  {
   "cell_type": "code",
   "execution_count": 240,
   "metadata": {
    "collapsed": false
   },
   "outputs": [
    {
     "data": {
      "text/plain": [
       "Domain Code                   0\n",
       "Domain                        0\n",
       "Donor Code                    0\n",
       "Donor                         0\n",
       "Recipient Country Code        0\n",
       "Recipient Country             0\n",
       "Element Code                  0\n",
       "Element                       0\n",
       "Item Code                     0\n",
       "Item                          0\n",
       "Purpose Code                  0\n",
       "Purpose                       0\n",
       "Year Code                     0\n",
       "Year                          0\n",
       "Unit                          0\n",
       "Value                     23521\n",
       "Flag                          0\n",
       "Flag Description              0\n",
       "dtype: int64"
      ]
     },
     "execution_count": 240,
     "metadata": {},
     "output_type": "execute_result"
    }
   ],
   "source": [
    "df15.isnull().sum()\n"
   ]
  },
  {
   "cell_type": "code",
   "execution_count": 241,
   "metadata": {
    "collapsed": false
   },
   "outputs": [
    {
     "data": {
      "text/html": [
       "<div>\n",
       "<table border=\"1\" class=\"dataframe\">\n",
       "  <thead>\n",
       "    <tr style=\"text-align: right;\">\n",
       "      <th></th>\n",
       "      <th>Recipient Country</th>\n",
       "      <th>Year</th>\n",
       "      <th>Value</th>\n",
       "    </tr>\n",
       "  </thead>\n",
       "  <tbody>\n",
       "    <tr>\n",
       "      <th>0</th>\n",
       "      <td>Angola</td>\n",
       "      <td>2004</td>\n",
       "      <td>0.09</td>\n",
       "    </tr>\n",
       "  </tbody>\n",
       "</table>\n",
       "</div>"
      ],
      "text/plain": [
       "  Recipient Country  Year  Value\n",
       "0            Angola  2004   0.09"
      ]
     },
     "execution_count": 241,
     "metadata": {},
     "output_type": "execute_result"
    }
   ],
   "source": [
    "df15.drop(['Domain Code','Item','Domain Code','Donor','Recipient Country Code','Purpose Code','Purpose','Year Code','Donor Code','Element Code','Element','Item Code','Flag','Flag Description','Unit','Domain'], axis=1, inplace=True)       \n",
    "df15.head(1)"
   ]
  },
  {
   "cell_type": "code",
   "execution_count": 242,
   "metadata": {
    "collapsed": true
   },
   "outputs": [],
   "source": [
    "#Relevant columns of interest are renamed for easy reference and analysis.\n",
    "df15.rename(columns={\n",
    "    \"Value\":\"ODA_Agric_Fishery_Forestry\",\n",
    "    \"Recipient Country\":\"Country\"\n",
    "\n",
    "}, inplace=True)\n"
   ]
  },
  {
   "cell_type": "code",
   "execution_count": 243,
   "metadata": {
    "collapsed": false
   },
   "outputs": [
    {
     "data": {
      "text/html": [
       "<div>\n",
       "<table border=\"1\" class=\"dataframe\">\n",
       "  <thead>\n",
       "    <tr style=\"text-align: right;\">\n",
       "      <th></th>\n",
       "      <th>Country</th>\n",
       "      <th>Year</th>\n",
       "      <th>ODA_Agric_Fishery_Forestry</th>\n",
       "    </tr>\n",
       "  </thead>\n",
       "  <tbody>\n",
       "    <tr>\n",
       "      <th>0</th>\n",
       "      <td>Angola</td>\n",
       "      <td>2004</td>\n",
       "      <td>0.09</td>\n",
       "    </tr>\n",
       "  </tbody>\n",
       "</table>\n",
       "</div>"
      ],
      "text/plain": [
       "  Country  Year  ODA_Agric_Fishery_Forestry\n",
       "0  Angola  2004                        0.09"
      ]
     },
     "execution_count": 243,
     "metadata": {},
     "output_type": "execute_result"
    }
   ],
   "source": [
    "df15.head(1)"
   ]
  },
  {
   "cell_type": "code",
   "execution_count": 244,
   "metadata": {
    "collapsed": false
   },
   "outputs": [
    {
     "data": {
      "text/plain": [
       "Domain Code         0\n",
       "Domain              0\n",
       "Area Code           0\n",
       "Area                0\n",
       "Element Code        0\n",
       "Element             0\n",
       "Item Code           0\n",
       "Item                0\n",
       "Year Code           0\n",
       "Year                0\n",
       "Unit                0\n",
       "Value               0\n",
       "Flag                0\n",
       "Flag Description    0\n",
       "dtype: int64"
      ]
     },
     "execution_count": 244,
     "metadata": {},
     "output_type": "execute_result"
    }
   ],
   "source": [
    "df16.isnull().sum()\n"
   ]
  },
  {
   "cell_type": "code",
   "execution_count": 245,
   "metadata": {
    "collapsed": false
   },
   "outputs": [
    {
     "data": {
      "text/html": [
       "<div>\n",
       "<table border=\"1\" class=\"dataframe\">\n",
       "  <thead>\n",
       "    <tr style=\"text-align: right;\">\n",
       "      <th></th>\n",
       "      <th>Area</th>\n",
       "      <th>Year</th>\n",
       "      <th>Value</th>\n",
       "    </tr>\n",
       "  </thead>\n",
       "  <tbody>\n",
       "    <tr>\n",
       "      <th>0</th>\n",
       "      <td>Angola</td>\n",
       "      <td>2009</td>\n",
       "      <td>16757.23</td>\n",
       "    </tr>\n",
       "  </tbody>\n",
       "</table>\n",
       "</div>"
      ],
      "text/plain": [
       "     Area  Year     Value\n",
       "0  Angola  2009  16757.23"
      ]
     },
     "execution_count": 245,
     "metadata": {},
     "output_type": "execute_result"
    }
   ],
   "source": [
    "df16.drop(['Domain Code','Area Code','Domain','Flag Description','Item Code','Item','Year Code','Unit','Flag','Element','Element Code'], axis=1, inplace=True)       \n",
    "df16.head(1)"
   ]
  },
  {
   "cell_type": "code",
   "execution_count": 246,
   "metadata": {
    "collapsed": true
   },
   "outputs": [],
   "source": [
    "#Relevant columns of interest are renamed for easy reference and analysis.\n",
    "df16.rename(columns={\n",
    "    \"Value\":\"Total_Credit_AFF\",\n",
    "    \"Area\":\"Country\"\n",
    "  \n",
    "}, inplace=True)"
   ]
  },
  {
   "cell_type": "code",
   "execution_count": 247,
   "metadata": {
    "collapsed": false
   },
   "outputs": [
    {
     "data": {
      "text/html": [
       "<div>\n",
       "<table border=\"1\" class=\"dataframe\">\n",
       "  <thead>\n",
       "    <tr style=\"text-align: right;\">\n",
       "      <th></th>\n",
       "      <th>Country</th>\n",
       "      <th>Year</th>\n",
       "      <th>Total_Credit_AFF</th>\n",
       "    </tr>\n",
       "  </thead>\n",
       "  <tbody>\n",
       "    <tr>\n",
       "      <th>0</th>\n",
       "      <td>Angola</td>\n",
       "      <td>2009</td>\n",
       "      <td>16757.23</td>\n",
       "    </tr>\n",
       "  </tbody>\n",
       "</table>\n",
       "</div>"
      ],
      "text/plain": [
       "  Country  Year  Total_Credit_AFF\n",
       "0  Angola  2009          16757.23"
      ]
     },
     "execution_count": 247,
     "metadata": {},
     "output_type": "execute_result"
    }
   ],
   "source": [
    "df16.head(1)"
   ]
  },
  {
   "cell_type": "code",
   "execution_count": 248,
   "metadata": {
    "collapsed": false,
    "scrolled": true
   },
   "outputs": [
    {
     "data": {
      "text/plain": [
       "Domain Code           0\n",
       "Domain                0\n",
       "Area Code             0\n",
       "Area                  0\n",
       "Element Code          0\n",
       "Element               0\n",
       "Item Code             0\n",
       "Item                  0\n",
       "Year Code             0\n",
       "Year                  0\n",
       "Unit                515\n",
       "Value                 0\n",
       "Flag                  0\n",
       "Flag Description      0\n",
       "dtype: int64"
      ]
     },
     "execution_count": 248,
     "metadata": {},
     "output_type": "execute_result"
    }
   ],
   "source": [
    "df17.isnull().sum()\n"
   ]
  },
  {
   "cell_type": "code",
   "execution_count": 249,
   "metadata": {
    "collapsed": false
   },
   "outputs": [
    {
     "data": {
      "text/html": [
       "<div>\n",
       "<table border=\"1\" class=\"dataframe\">\n",
       "  <thead>\n",
       "    <tr style=\"text-align: right;\">\n",
       "      <th></th>\n",
       "      <th>Area</th>\n",
       "      <th>Year</th>\n",
       "      <th>Value</th>\n",
       "    </tr>\n",
       "  </thead>\n",
       "  <tbody>\n",
       "    <tr>\n",
       "      <th>0</th>\n",
       "      <td>Angola</td>\n",
       "      <td>2009</td>\n",
       "      <td>0.01797</td>\n",
       "    </tr>\n",
       "  </tbody>\n",
       "</table>\n",
       "</div>"
      ],
      "text/plain": [
       "     Area  Year    Value\n",
       "0  Angola  2009  0.01797"
      ]
     },
     "execution_count": 249,
     "metadata": {},
     "output_type": "execute_result"
    }
   ],
   "source": [
    "df17.drop(['Domain Code','Area Code','Domain','Flag Description','Item Code','Item','Year Code','Unit','Flag','Element','Element Code'], axis=1, inplace=True)       \n",
    "df17.head(1)"
   ]
  },
  {
   "cell_type": "code",
   "execution_count": 250,
   "metadata": {
    "collapsed": true
   },
   "outputs": [],
   "source": [
    "#Relevant columns of interest are renamed for easy reference and analysis.\n",
    "df17.rename(columns={\n",
    "    \"Value\":\"AFF_Credit_Share\",\n",
    "    \"Area\":\"Country\"\n",
    "\n",
    "\n",
    "}, inplace=True)"
   ]
  },
  {
   "cell_type": "code",
   "execution_count": 251,
   "metadata": {
    "collapsed": false
   },
   "outputs": [
    {
     "data": {
      "text/html": [
       "<div>\n",
       "<table border=\"1\" class=\"dataframe\">\n",
       "  <thead>\n",
       "    <tr style=\"text-align: right;\">\n",
       "      <th></th>\n",
       "      <th>Country</th>\n",
       "      <th>Year</th>\n",
       "      <th>AFF_Credit_Share</th>\n",
       "    </tr>\n",
       "  </thead>\n",
       "  <tbody>\n",
       "    <tr>\n",
       "      <th>0</th>\n",
       "      <td>Angola</td>\n",
       "      <td>2009</td>\n",
       "      <td>0.01797</td>\n",
       "    </tr>\n",
       "  </tbody>\n",
       "</table>\n",
       "</div>"
      ],
      "text/plain": [
       "  Country  Year  AFF_Credit_Share\n",
       "0  Angola  2009           0.01797"
      ]
     },
     "execution_count": 251,
     "metadata": {},
     "output_type": "execute_result"
    }
   ],
   "source": [
    "df17.head(1)"
   ]
  },
  {
   "cell_type": "markdown",
   "metadata": {},
   "source": [
    "#### Merging all 17 variables to obtain the master dataset"
   ]
  },
  {
   "cell_type": "code",
   "execution_count": 252,
   "metadata": {
    "collapsed": false
   },
   "outputs": [],
   "source": [
    "df=df1.merge(df4,on=['Country','Year'], how='left').merge(df5,on=['Country','Year'],how='left')"
   ]
  },
  {
   "cell_type": "code",
   "execution_count": 253,
   "metadata": {
    "collapsed": false
   },
   "outputs": [],
   "source": [
    "df=df.merge(df6,on=['Country','Year'], how='left').merge(df7,on=['Country','Year'],how='left')"
   ]
  },
  {
   "cell_type": "code",
   "execution_count": 254,
   "metadata": {
    "collapsed": true
   },
   "outputs": [],
   "source": [
    "df=df.merge(df8,on=['Country','Year'], how='left').merge(df9,on=['Country','Year'],how='left')"
   ]
  },
  {
   "cell_type": "code",
   "execution_count": 255,
   "metadata": {
    "collapsed": true
   },
   "outputs": [],
   "source": [
    "df=df.merge(df10,on=['Country','Year'], how='left').merge(df11,on=['Country','Year'],how='left')"
   ]
  },
  {
   "cell_type": "code",
   "execution_count": 256,
   "metadata": {
    "collapsed": true
   },
   "outputs": [],
   "source": [
    "df=df.merge(df12,on=['Country','Year'], how='left').merge(df13,on=['Country','Year'],how='left')"
   ]
  },
  {
   "cell_type": "code",
   "execution_count": 257,
   "metadata": {
    "collapsed": true
   },
   "outputs": [],
   "source": [
    "df=df.merge(df14,on=['Country','Year'], how='left')"
   ]
  },
  {
   "cell_type": "code",
   "execution_count": 258,
   "metadata": {
    "collapsed": true
   },
   "outputs": [],
   "source": [
    "# df=df.merge(df15,on=['Country','Year'], how='left')"
   ]
  },
  {
   "cell_type": "code",
   "execution_count": 259,
   "metadata": {
    "collapsed": true
   },
   "outputs": [],
   "source": [
    "df=df.merge(df16,on=['Country','Year'], how='left')"
   ]
  },
  {
   "cell_type": "code",
   "execution_count": 260,
   "metadata": {
    "collapsed": true
   },
   "outputs": [],
   "source": [
    "df=df.merge(df17,on=['Country','Year'], how='left')"
   ]
  },
  {
   "cell_type": "code",
   "execution_count": 261,
   "metadata": {
    "collapsed": false
   },
   "outputs": [
    {
     "name": "stdout",
     "output_type": "stream",
     "text": [
      "<class 'pandas.core.frame.DataFrame'>\n",
      "Int64Index: 6971669 entries, 0 to 6971668\n",
      "Data columns (total 16 columns):\n",
      "Country                           object\n",
      "Year                              int64\n",
      "People_UnderNourished_millions    float64\n",
      "Crop_Production_x                 float64\n",
      "Crop_Production_y                 float64\n",
      "Agric_Value_Added_USD             float64\n",
      "GDP_Per_Capita_USD_x              float64\n",
      "GDP_Per_Capita_USD_y              float64\n",
      "Total_Population_millions         float64\n",
      "Urban_Population                  float64\n",
      "Rural_Population                  float64\n",
      "Total_FDI_Inflows                 float64\n",
      "FDI_Inflows_Agric                 float64\n",
      "ODA__Crop_Production              float64\n",
      "Total_Credit_AFF                  float64\n",
      "AFF_Credit_Share                  float64\n",
      "dtypes: float64(14), int64(1), object(1)\n",
      "memory usage: 904.2+ MB\n",
      "None\n",
      "(6971669, 16)\n"
     ]
    }
   ],
   "source": [
    "print df.info()\n",
    "print df.shape "
   ]
  },
  {
   "cell_type": "code",
   "execution_count": 262,
   "metadata": {
    "collapsed": false
   },
   "outputs": [
    {
     "data": {
      "text/plain": [
       "Country                                 0\n",
       "Year                                    0\n",
       "People_UnderNourished_millions    1575900\n",
       "Crop_Production_x                  203569\n",
       "Crop_Production_y                     211\n",
       "Agric_Value_Added_USD              160119\n",
       "GDP_Per_Capita_USD_x               160119\n",
       "GDP_Per_Capita_USD_y              5415463\n",
       "Total_Population_millions            2792\n",
       "Urban_Population                     2792\n",
       "Rural_Population                     2792\n",
       "Total_FDI_Inflows                  871326\n",
       "FDI_Inflows_Agric                 5852730\n",
       "ODA__Crop_Production              3333293\n",
       "Total_Credit_AFF                  3034663\n",
       "AFF_Credit_Share                  3110914\n",
       "dtype: int64"
      ]
     },
     "execution_count": 262,
     "metadata": {},
     "output_type": "execute_result"
    }
   ],
   "source": [
    "#Checking for missing values in the master dataframe\n",
    "df.isnull().sum()"
   ]
  },
  {
   "cell_type": "code",
   "execution_count": 263,
   "metadata": {
    "collapsed": false
   },
   "outputs": [
    {
     "data": {
      "text/html": [
       "<div>\n",
       "<table border=\"1\" class=\"dataframe\">\n",
       "  <thead>\n",
       "    <tr style=\"text-align: right;\">\n",
       "      <th></th>\n",
       "      <th>Country</th>\n",
       "      <th>Year</th>\n",
       "      <th>People_UnderNourished_millions</th>\n",
       "      <th>Crop_Production_x</th>\n",
       "      <th>Crop_Production_y</th>\n",
       "      <th>Agric_Value_Added_USD</th>\n",
       "      <th>GDP_Per_Capita_USD_x</th>\n",
       "      <th>GDP_Per_Capita_USD_y</th>\n",
       "      <th>Total_Population_millions</th>\n",
       "      <th>Urban_Population</th>\n",
       "      <th>Rural_Population</th>\n",
       "      <th>Total_FDI_Inflows</th>\n",
       "      <th>FDI_Inflows_Agric</th>\n",
       "      <th>ODA__Crop_Production</th>\n",
       "      <th>Total_Credit_AFF</th>\n",
       "      <th>AFF_Credit_Share</th>\n",
       "    </tr>\n",
       "  </thead>\n",
       "  <tbody>\n",
       "    <tr>\n",
       "      <th>0</th>\n",
       "      <td>Algeria</td>\n",
       "      <td>1990</td>\n",
       "      <td>2.1</td>\n",
       "      <td>11733.0</td>\n",
       "      <td>4691.0</td>\n",
       "      <td>NaN</td>\n",
       "      <td>NaN</td>\n",
       "      <td>NaN</td>\n",
       "      <td>25912.364</td>\n",
       "      <td>13666.998</td>\n",
       "      <td>12573.0</td>\n",
       "      <td>NaN</td>\n",
       "      <td>NaN</td>\n",
       "      <td>NaN</td>\n",
       "      <td>NaN</td>\n",
       "      <td>NaN</td>\n",
       "    </tr>\n",
       "  </tbody>\n",
       "</table>\n",
       "</div>"
      ],
      "text/plain": [
       "   Country  Year  People_UnderNourished_millions  Crop_Production_x  \\\n",
       "0  Algeria  1990                             2.1            11733.0   \n",
       "\n",
       "   Crop_Production_y  Agric_Value_Added_USD  GDP_Per_Capita_USD_x  \\\n",
       "0             4691.0                    NaN                   NaN   \n",
       "\n",
       "   GDP_Per_Capita_USD_y  Total_Population_millions  Urban_Population  \\\n",
       "0                   NaN                  25912.364         13666.998   \n",
       "\n",
       "   Rural_Population  Total_FDI_Inflows  FDI_Inflows_Agric  \\\n",
       "0           12573.0                NaN                NaN   \n",
       "\n",
       "   ODA__Crop_Production  Total_Credit_AFF  AFF_Credit_Share  \n",
       "0                   NaN               NaN               NaN  "
      ]
     },
     "execution_count": 263,
     "metadata": {},
     "output_type": "execute_result"
    }
   ],
   "source": [
    "df.head(1)"
   ]
  },
  {
   "cell_type": "code",
   "execution_count": 264,
   "metadata": {
    "collapsed": false
   },
   "outputs": [
    {
     "data": {
      "text/html": [
       "<div>\n",
       "<table border=\"1\" class=\"dataframe\">\n",
       "  <thead>\n",
       "    <tr style=\"text-align: right;\">\n",
       "      <th></th>\n",
       "      <th>count</th>\n",
       "      <th>mean</th>\n",
       "      <th>std</th>\n",
       "      <th>min</th>\n",
       "      <th>25%</th>\n",
       "      <th>50%</th>\n",
       "      <th>75%</th>\n",
       "      <th>max</th>\n",
       "    </tr>\n",
       "  </thead>\n",
       "  <tbody>\n",
       "    <tr>\n",
       "      <th>Year</th>\n",
       "      <td>6971669.0</td>\n",
       "      <td>2005.051453</td>\n",
       "      <td>6.646108e+00</td>\n",
       "      <td>1990.000000</td>\n",
       "      <td>2000.000000</td>\n",
       "      <td>2006.00000</td>\n",
       "      <td>2011.000000</td>\n",
       "      <td>2.014000e+03</td>\n",
       "    </tr>\n",
       "    <tr>\n",
       "      <th>People_UnderNourished_millions</th>\n",
       "      <td>5395769.0</td>\n",
       "      <td>8.049431</td>\n",
       "      <td>9.298748e+00</td>\n",
       "      <td>0.100000</td>\n",
       "      <td>2.000000</td>\n",
       "      <td>5.00000</td>\n",
       "      <td>9.800000</td>\n",
       "      <td>4.070000e+01</td>\n",
       "    </tr>\n",
       "    <tr>\n",
       "      <th>Crop_Production_x</th>\n",
       "      <td>6768100.0</td>\n",
       "      <td>338100.959774</td>\n",
       "      <td>1.630910e+06</td>\n",
       "      <td>0.000000</td>\n",
       "      <td>2504.000000</td>\n",
       "      <td>22500.00000</td>\n",
       "      <td>128000.000000</td>\n",
       "      <td>5.483160e+07</td>\n",
       "    </tr>\n",
       "    <tr>\n",
       "      <th>Crop_Production_y</th>\n",
       "      <td>6971458.0</td>\n",
       "      <td>73335.177484</td>\n",
       "      <td>1.190113e+05</td>\n",
       "      <td>111.000000</td>\n",
       "      <td>8970.000000</td>\n",
       "      <td>34629.00000</td>\n",
       "      <td>90426.000000</td>\n",
       "      <td>1.295748e+06</td>\n",
       "    </tr>\n",
       "    <tr>\n",
       "      <th>Agric_Value_Added_USD</th>\n",
       "      <td>6811550.0</td>\n",
       "      <td>5220.375568</td>\n",
       "      <td>8.865223e+03</td>\n",
       "      <td>12.960970</td>\n",
       "      <td>1262.561158</td>\n",
       "      <td>3252.99180</td>\n",
       "      <td>5597.757408</td>\n",
       "      <td>7.434865e+04</td>\n",
       "    </tr>\n",
       "    <tr>\n",
       "      <th>GDP_Per_Capita_USD_x</th>\n",
       "      <td>6811550.0</td>\n",
       "      <td>1095.003548</td>\n",
       "      <td>1.367614e+03</td>\n",
       "      <td>56.135934</td>\n",
       "      <td>315.217561</td>\n",
       "      <td>630.15842</td>\n",
       "      <td>1114.648805</td>\n",
       "      <td>1.775375e+04</td>\n",
       "    </tr>\n",
       "    <tr>\n",
       "      <th>GDP_Per_Capita_USD_y</th>\n",
       "      <td>1556206.0</td>\n",
       "      <td>4750.524112</td>\n",
       "      <td>7.332336e+03</td>\n",
       "      <td>0.400000</td>\n",
       "      <td>486.400000</td>\n",
       "      <td>3284.20000</td>\n",
       "      <td>5010.600000</td>\n",
       "      <td>3.081710e+04</td>\n",
       "    </tr>\n",
       "    <tr>\n",
       "      <th>Total_Population_millions</th>\n",
       "      <td>6968877.0</td>\n",
       "      <td>32851.131183</td>\n",
       "      <td>2.987144e+04</td>\n",
       "      <td>70.627000</td>\n",
       "      <td>12738.676000</td>\n",
       "      <td>23713.16400</td>\n",
       "      <td>40558.495000</td>\n",
       "      <td>1.774760e+05</td>\n",
       "    </tr>\n",
       "    <tr>\n",
       "      <th>Urban_Population</th>\n",
       "      <td>6968877.0</td>\n",
       "      <td>11125.620229</td>\n",
       "      <td>1.175602e+04</td>\n",
       "      <td>34.221000</td>\n",
       "      <td>4046.664000</td>\n",
       "      <td>7102.45700</td>\n",
       "      <td>15040.179000</td>\n",
       "      <td>8.379860e+04</td>\n",
       "    </tr>\n",
       "    <tr>\n",
       "      <th>Rural_Population</th>\n",
       "      <td>6968877.0</td>\n",
       "      <td>21393.208235</td>\n",
       "      <td>2.038841e+04</td>\n",
       "      <td>35.000000</td>\n",
       "      <td>8375.000000</td>\n",
       "      <td>13390.00000</td>\n",
       "      <td>29288.000000</td>\n",
       "      <td>9.471800e+04</td>\n",
       "    </tr>\n",
       "    <tr>\n",
       "      <th>Total_FDI_Inflows</th>\n",
       "      <td>6100343.0</td>\n",
       "      <td>763.043067</td>\n",
       "      <td>1.367659e+03</td>\n",
       "      <td>-3776.800000</td>\n",
       "      <td>59.700000</td>\n",
       "      <td>227.31000</td>\n",
       "      <td>737.160000</td>\n",
       "      <td>1.224977e+04</td>\n",
       "    </tr>\n",
       "    <tr>\n",
       "      <th>FDI_Inflows_Agric</th>\n",
       "      <td>1118939.0</td>\n",
       "      <td>21.345464</td>\n",
       "      <td>4.741836e+01</td>\n",
       "      <td>-12.630000</td>\n",
       "      <td>1.560000</td>\n",
       "      <td>5.30000</td>\n",
       "      <td>16.310000</td>\n",
       "      <td>3.488400e+02</td>\n",
       "    </tr>\n",
       "    <tr>\n",
       "      <th>ODA__Crop_Production</th>\n",
       "      <td>3638376.0</td>\n",
       "      <td>3.590212</td>\n",
       "      <td>2.082572e+01</td>\n",
       "      <td>0.000000</td>\n",
       "      <td>0.050000</td>\n",
       "      <td>0.23000</td>\n",
       "      <td>0.920000</td>\n",
       "      <td>3.011100e+02</td>\n",
       "    </tr>\n",
       "    <tr>\n",
       "      <th>Total_Credit_AFF</th>\n",
       "      <td>3937006.0</td>\n",
       "      <td>9396.009352</td>\n",
       "      <td>1.639591e+04</td>\n",
       "      <td>1.080000</td>\n",
       "      <td>713.310000</td>\n",
       "      <td>3378.62000</td>\n",
       "      <td>9437.310000</td>\n",
       "      <td>8.367369e+04</td>\n",
       "    </tr>\n",
       "    <tr>\n",
       "      <th>AFF_Credit_Share</th>\n",
       "      <td>3860755.0</td>\n",
       "      <td>0.065748</td>\n",
       "      <td>5.709423e-02</td>\n",
       "      <td>0.000000</td>\n",
       "      <td>0.032470</td>\n",
       "      <td>0.04738</td>\n",
       "      <td>0.086500</td>\n",
       "      <td>5.441400e-01</td>\n",
       "    </tr>\n",
       "  </tbody>\n",
       "</table>\n",
       "</div>"
      ],
      "text/plain": [
       "                                    count           mean           std  \\\n",
       "Year                            6971669.0    2005.051453  6.646108e+00   \n",
       "People_UnderNourished_millions  5395769.0       8.049431  9.298748e+00   \n",
       "Crop_Production_x               6768100.0  338100.959774  1.630910e+06   \n",
       "Crop_Production_y               6971458.0   73335.177484  1.190113e+05   \n",
       "Agric_Value_Added_USD           6811550.0    5220.375568  8.865223e+03   \n",
       "GDP_Per_Capita_USD_x            6811550.0    1095.003548  1.367614e+03   \n",
       "GDP_Per_Capita_USD_y            1556206.0    4750.524112  7.332336e+03   \n",
       "Total_Population_millions       6968877.0   32851.131183  2.987144e+04   \n",
       "Urban_Population                6968877.0   11125.620229  1.175602e+04   \n",
       "Rural_Population                6968877.0   21393.208235  2.038841e+04   \n",
       "Total_FDI_Inflows               6100343.0     763.043067  1.367659e+03   \n",
       "FDI_Inflows_Agric               1118939.0      21.345464  4.741836e+01   \n",
       "ODA__Crop_Production            3638376.0       3.590212  2.082572e+01   \n",
       "Total_Credit_AFF                3937006.0    9396.009352  1.639591e+04   \n",
       "AFF_Credit_Share                3860755.0       0.065748  5.709423e-02   \n",
       "\n",
       "                                        min           25%          50%  \\\n",
       "Year                            1990.000000   2000.000000   2006.00000   \n",
       "People_UnderNourished_millions     0.100000      2.000000      5.00000   \n",
       "Crop_Production_x                  0.000000   2504.000000  22500.00000   \n",
       "Crop_Production_y                111.000000   8970.000000  34629.00000   \n",
       "Agric_Value_Added_USD             12.960970   1262.561158   3252.99180   \n",
       "GDP_Per_Capita_USD_x              56.135934    315.217561    630.15842   \n",
       "GDP_Per_Capita_USD_y               0.400000    486.400000   3284.20000   \n",
       "Total_Population_millions         70.627000  12738.676000  23713.16400   \n",
       "Urban_Population                  34.221000   4046.664000   7102.45700   \n",
       "Rural_Population                  35.000000   8375.000000  13390.00000   \n",
       "Total_FDI_Inflows              -3776.800000     59.700000    227.31000   \n",
       "FDI_Inflows_Agric                -12.630000      1.560000      5.30000   \n",
       "ODA__Crop_Production               0.000000      0.050000      0.23000   \n",
       "Total_Credit_AFF                   1.080000    713.310000   3378.62000   \n",
       "AFF_Credit_Share                   0.000000      0.032470      0.04738   \n",
       "\n",
       "                                          75%           max  \n",
       "Year                              2011.000000  2.014000e+03  \n",
       "People_UnderNourished_millions       9.800000  4.070000e+01  \n",
       "Crop_Production_x               128000.000000  5.483160e+07  \n",
       "Crop_Production_y                90426.000000  1.295748e+06  \n",
       "Agric_Value_Added_USD             5597.757408  7.434865e+04  \n",
       "GDP_Per_Capita_USD_x              1114.648805  1.775375e+04  \n",
       "GDP_Per_Capita_USD_y              5010.600000  3.081710e+04  \n",
       "Total_Population_millions        40558.495000  1.774760e+05  \n",
       "Urban_Population                 15040.179000  8.379860e+04  \n",
       "Rural_Population                 29288.000000  9.471800e+04  \n",
       "Total_FDI_Inflows                  737.160000  1.224977e+04  \n",
       "FDI_Inflows_Agric                   16.310000  3.488400e+02  \n",
       "ODA__Crop_Production                 0.920000  3.011100e+02  \n",
       "Total_Credit_AFF                  9437.310000  8.367369e+04  \n",
       "AFF_Credit_Share                     0.086500  5.441400e-01  "
      ]
     },
     "execution_count": 264,
     "metadata": {},
     "output_type": "execute_result"
    }
   ],
   "source": [
    "#Previewing the summary statistics of variables in the master dataset\n",
    "df.describe().T\n"
   ]
  },
  {
   "cell_type": "code",
   "execution_count": 265,
   "metadata": {
    "collapsed": true
   },
   "outputs": [],
   "source": [
    "#Setting the data into panel format\n",
    "#Country_indexed_df = df.set_index(['Country'])"
   ]
  },
  {
   "cell_type": "code",
   "execution_count": 266,
   "metadata": {
    "collapsed": false
   },
   "outputs": [
    {
     "data": {
      "text/plain": [
       "Country                                 0\n",
       "Year                                    0\n",
       "People_UnderNourished_millions    1575900\n",
       "Crop_Production_x                  203569\n",
       "Crop_Production_y                     211\n",
       "Agric_Value_Added_USD              160119\n",
       "GDP_Per_Capita_USD_x               160119\n",
       "GDP_Per_Capita_USD_y              5415463\n",
       "Total_Population_millions            2792\n",
       "Urban_Population                     2792\n",
       "Rural_Population                     2792\n",
       "Total_FDI_Inflows                  871326\n",
       "FDI_Inflows_Agric                 5852730\n",
       "ODA__Crop_Production              3333293\n",
       "Total_Credit_AFF                  3034663\n",
       "AFF_Credit_Share                  3110914\n",
       "dtype: int64"
      ]
     },
     "execution_count": 266,
     "metadata": {},
     "output_type": "execute_result"
    }
   ],
   "source": [
    "df.isnull().sum()"
   ]
  },
  {
   "cell_type": "code",
   "execution_count": 267,
   "metadata": {
    "collapsed": true
   },
   "outputs": [],
   "source": [
    "dfi = df.set_index(['Country'])"
   ]
  },
  {
   "cell_type": "code",
   "execution_count": 268,
   "metadata": {
    "collapsed": false
   },
   "outputs": [
    {
     "data": {
      "text/html": [
       "<div>\n",
       "<table border=\"1\" class=\"dataframe\">\n",
       "  <thead>\n",
       "    <tr style=\"text-align: right;\">\n",
       "      <th></th>\n",
       "      <th>Year</th>\n",
       "      <th>People_UnderNourished_millions</th>\n",
       "      <th>Crop_Production_x</th>\n",
       "      <th>Crop_Production_y</th>\n",
       "      <th>Agric_Value_Added_USD</th>\n",
       "      <th>GDP_Per_Capita_USD_x</th>\n",
       "      <th>GDP_Per_Capita_USD_y</th>\n",
       "      <th>Total_Population_millions</th>\n",
       "      <th>Urban_Population</th>\n",
       "      <th>Rural_Population</th>\n",
       "      <th>Total_FDI_Inflows</th>\n",
       "      <th>FDI_Inflows_Agric</th>\n",
       "      <th>ODA__Crop_Production</th>\n",
       "      <th>Total_Credit_AFF</th>\n",
       "      <th>AFF_Credit_Share</th>\n",
       "    </tr>\n",
       "    <tr>\n",
       "      <th>Country</th>\n",
       "      <th></th>\n",
       "      <th></th>\n",
       "      <th></th>\n",
       "      <th></th>\n",
       "      <th></th>\n",
       "      <th></th>\n",
       "      <th></th>\n",
       "      <th></th>\n",
       "      <th></th>\n",
       "      <th></th>\n",
       "      <th></th>\n",
       "      <th></th>\n",
       "      <th></th>\n",
       "      <th></th>\n",
       "      <th></th>\n",
       "    </tr>\n",
       "  </thead>\n",
       "  <tbody>\n",
       "    <tr>\n",
       "      <th>Algeria</th>\n",
       "      <td>1990</td>\n",
       "      <td>2.1</td>\n",
       "      <td>11733.0</td>\n",
       "      <td>4691.0</td>\n",
       "      <td>NaN</td>\n",
       "      <td>NaN</td>\n",
       "      <td>NaN</td>\n",
       "      <td>25912.364</td>\n",
       "      <td>13666.998</td>\n",
       "      <td>12573.0</td>\n",
       "      <td>NaN</td>\n",
       "      <td>NaN</td>\n",
       "      <td>NaN</td>\n",
       "      <td>NaN</td>\n",
       "      <td>NaN</td>\n",
       "    </tr>\n",
       "    <tr>\n",
       "      <th>Algeria</th>\n",
       "      <td>1990</td>\n",
       "      <td>2.1</td>\n",
       "      <td>11733.0</td>\n",
       "      <td>36258.0</td>\n",
       "      <td>NaN</td>\n",
       "      <td>NaN</td>\n",
       "      <td>NaN</td>\n",
       "      <td>25912.364</td>\n",
       "      <td>13666.998</td>\n",
       "      <td>12573.0</td>\n",
       "      <td>NaN</td>\n",
       "      <td>NaN</td>\n",
       "      <td>NaN</td>\n",
       "      <td>NaN</td>\n",
       "      <td>NaN</td>\n",
       "    </tr>\n",
       "    <tr>\n",
       "      <th>Algeria</th>\n",
       "      <td>1990</td>\n",
       "      <td>2.1</td>\n",
       "      <td>11733.0</td>\n",
       "      <td>24967.0</td>\n",
       "      <td>NaN</td>\n",
       "      <td>NaN</td>\n",
       "      <td>NaN</td>\n",
       "      <td>25912.364</td>\n",
       "      <td>13666.998</td>\n",
       "      <td>12573.0</td>\n",
       "      <td>NaN</td>\n",
       "      <td>NaN</td>\n",
       "      <td>NaN</td>\n",
       "      <td>NaN</td>\n",
       "      <td>NaN</td>\n",
       "    </tr>\n",
       "    <tr>\n",
       "      <th>Algeria</th>\n",
       "      <td>1990</td>\n",
       "      <td>2.1</td>\n",
       "      <td>11733.0</td>\n",
       "      <td>53419.0</td>\n",
       "      <td>NaN</td>\n",
       "      <td>NaN</td>\n",
       "      <td>NaN</td>\n",
       "      <td>25912.364</td>\n",
       "      <td>13666.998</td>\n",
       "      <td>12573.0</td>\n",
       "      <td>NaN</td>\n",
       "      <td>NaN</td>\n",
       "      <td>NaN</td>\n",
       "      <td>NaN</td>\n",
       "      <td>NaN</td>\n",
       "    </tr>\n",
       "    <tr>\n",
       "      <th>Algeria</th>\n",
       "      <td>1990</td>\n",
       "      <td>2.1</td>\n",
       "      <td>11733.0</td>\n",
       "      <td>7610.0</td>\n",
       "      <td>NaN</td>\n",
       "      <td>NaN</td>\n",
       "      <td>NaN</td>\n",
       "      <td>25912.364</td>\n",
       "      <td>13666.998</td>\n",
       "      <td>12573.0</td>\n",
       "      <td>NaN</td>\n",
       "      <td>NaN</td>\n",
       "      <td>NaN</td>\n",
       "      <td>NaN</td>\n",
       "      <td>NaN</td>\n",
       "    </tr>\n",
       "  </tbody>\n",
       "</table>\n",
       "</div>"
      ],
      "text/plain": [
       "         Year  People_UnderNourished_millions  Crop_Production_x  \\\n",
       "Country                                                            \n",
       "Algeria  1990                             2.1            11733.0   \n",
       "Algeria  1990                             2.1            11733.0   \n",
       "Algeria  1990                             2.1            11733.0   \n",
       "Algeria  1990                             2.1            11733.0   \n",
       "Algeria  1990                             2.1            11733.0   \n",
       "\n",
       "         Crop_Production_y  Agric_Value_Added_USD  GDP_Per_Capita_USD_x  \\\n",
       "Country                                                                   \n",
       "Algeria             4691.0                    NaN                   NaN   \n",
       "Algeria            36258.0                    NaN                   NaN   \n",
       "Algeria            24967.0                    NaN                   NaN   \n",
       "Algeria            53419.0                    NaN                   NaN   \n",
       "Algeria             7610.0                    NaN                   NaN   \n",
       "\n",
       "         GDP_Per_Capita_USD_y  Total_Population_millions  Urban_Population  \\\n",
       "Country                                                                      \n",
       "Algeria                   NaN                  25912.364         13666.998   \n",
       "Algeria                   NaN                  25912.364         13666.998   \n",
       "Algeria                   NaN                  25912.364         13666.998   \n",
       "Algeria                   NaN                  25912.364         13666.998   \n",
       "Algeria                   NaN                  25912.364         13666.998   \n",
       "\n",
       "         Rural_Population  Total_FDI_Inflows  FDI_Inflows_Agric  \\\n",
       "Country                                                           \n",
       "Algeria           12573.0                NaN                NaN   \n",
       "Algeria           12573.0                NaN                NaN   \n",
       "Algeria           12573.0                NaN                NaN   \n",
       "Algeria           12573.0                NaN                NaN   \n",
       "Algeria           12573.0                NaN                NaN   \n",
       "\n",
       "         ODA__Crop_Production  Total_Credit_AFF  AFF_Credit_Share  \n",
       "Country                                                            \n",
       "Algeria                   NaN               NaN               NaN  \n",
       "Algeria                   NaN               NaN               NaN  \n",
       "Algeria                   NaN               NaN               NaN  \n",
       "Algeria                   NaN               NaN               NaN  \n",
       "Algeria                   NaN               NaN               NaN  "
      ]
     },
     "execution_count": 268,
     "metadata": {},
     "output_type": "execute_result"
    }
   ],
   "source": [
    "dfi.head(5)"
   ]
  },
  {
   "cell_type": "code",
   "execution_count": 269,
   "metadata": {
    "collapsed": true
   },
   "outputs": [],
   "source": [
    "dfi['People_UnderNourished_millions'] = dfi.groupby(level=0)['People_UnderNourished_millions'].transform( lambda x: x.fillna(x.mean()))\n",
    "dfi['Crop_Production_x'] = dfi.groupby(level=0)['Crop_Production_x'].transform( lambda x: x.fillna(x.mean()))\n",
    "dfi['Agric_Value_Added_USD'] = dfi.groupby(level=0)['Agric_Value_Added_USD'].transform( lambda x: x.fillna(x.mean()))\n",
    "dfi['GDP_Per_Capita_USD_x'] = dfi.groupby(level=0)['GDP_Per_Capita_USD_x'].transform( lambda x: x.fillna(x.mean()))\n",
    "dfi['Total_Population_millions'] = dfi.groupby(level=0)['Total_Population_millions'].transform( lambda x: x.fillna(x.mean()))\n",
    "dfi['Urban_Population'] = dfi.groupby(level=0)['Urban_Population'].transform( lambda x: x.fillna(x.mean()))\n",
    "dfi['Rural_Population'] = dfi.groupby(level=0)['Rural_Population'].transform( lambda x: x.fillna(x.mean()))\n",
    "dfi['Total_FDI_Inflows'] = dfi.groupby(level=0)['Total_FDI_Inflows'].transform( lambda x: x.fillna(x.mean()))\n",
    "dfi['FDI_Inflows_Agric'] = dfi.groupby(level=0)['FDI_Inflows_Agric'].transform( lambda x: x.fillna(x.mean()))\n",
    "dfi['ODA__Crop_Production'] = dfi.groupby(level=0)['ODA__Crop_Production'].transform( lambda x: x.fillna(x.mean()))\n",
    "dfi['Total_Credit_AFF'] = dfi.groupby(level=0)['Total_Credit_AFF'].transform( lambda x: x.fillna(x.mean()))\n",
    "dfi['AFF_Credit_Share'] = dfi.groupby(level=0)['AFF_Credit_Share'].transform( lambda x: x.fillna(x.mean()))\n"
   ]
  },
  {
   "cell_type": "code",
   "execution_count": 270,
   "metadata": {
    "collapsed": false
   },
   "outputs": [
    {
     "data": {
      "text/html": [
       "<div>\n",
       "<table border=\"1\" class=\"dataframe\">\n",
       "  <thead>\n",
       "    <tr style=\"text-align: right;\">\n",
       "      <th></th>\n",
       "      <th>Year</th>\n",
       "      <th>People_UnderNourished_millions</th>\n",
       "      <th>Crop_Production_x</th>\n",
       "      <th>Crop_Production_y</th>\n",
       "      <th>Agric_Value_Added_USD</th>\n",
       "      <th>GDP_Per_Capita_USD_x</th>\n",
       "      <th>GDP_Per_Capita_USD_y</th>\n",
       "      <th>Total_Population_millions</th>\n",
       "      <th>Urban_Population</th>\n",
       "      <th>Rural_Population</th>\n",
       "      <th>Total_FDI_Inflows</th>\n",
       "      <th>FDI_Inflows_Agric</th>\n",
       "      <th>ODA__Crop_Production</th>\n",
       "      <th>Total_Credit_AFF</th>\n",
       "      <th>AFF_Credit_Share</th>\n",
       "    </tr>\n",
       "    <tr>\n",
       "      <th>Country</th>\n",
       "      <th></th>\n",
       "      <th></th>\n",
       "      <th></th>\n",
       "      <th></th>\n",
       "      <th></th>\n",
       "      <th></th>\n",
       "      <th></th>\n",
       "      <th></th>\n",
       "      <th></th>\n",
       "      <th></th>\n",
       "      <th></th>\n",
       "      <th></th>\n",
       "      <th></th>\n",
       "      <th></th>\n",
       "      <th></th>\n",
       "    </tr>\n",
       "  </thead>\n",
       "  <tbody>\n",
       "    <tr>\n",
       "      <th>Algeria</th>\n",
       "      <td>1990</td>\n",
       "      <td>2.1</td>\n",
       "      <td>11733.0</td>\n",
       "      <td>4691.0</td>\n",
       "      <td>NaN</td>\n",
       "      <td>NaN</td>\n",
       "      <td>NaN</td>\n",
       "      <td>25912.364</td>\n",
       "      <td>13666.998</td>\n",
       "      <td>12573.0</td>\n",
       "      <td>931.866532</td>\n",
       "      <td>3.405</td>\n",
       "      <td>NaN</td>\n",
       "      <td>NaN</td>\n",
       "      <td>NaN</td>\n",
       "    </tr>\n",
       "    <tr>\n",
       "      <th>Algeria</th>\n",
       "      <td>1990</td>\n",
       "      <td>2.1</td>\n",
       "      <td>11733.0</td>\n",
       "      <td>36258.0</td>\n",
       "      <td>NaN</td>\n",
       "      <td>NaN</td>\n",
       "      <td>NaN</td>\n",
       "      <td>25912.364</td>\n",
       "      <td>13666.998</td>\n",
       "      <td>12573.0</td>\n",
       "      <td>931.866532</td>\n",
       "      <td>3.405</td>\n",
       "      <td>NaN</td>\n",
       "      <td>NaN</td>\n",
       "      <td>NaN</td>\n",
       "    </tr>\n",
       "    <tr>\n",
       "      <th>Algeria</th>\n",
       "      <td>1990</td>\n",
       "      <td>2.1</td>\n",
       "      <td>11733.0</td>\n",
       "      <td>24967.0</td>\n",
       "      <td>NaN</td>\n",
       "      <td>NaN</td>\n",
       "      <td>NaN</td>\n",
       "      <td>25912.364</td>\n",
       "      <td>13666.998</td>\n",
       "      <td>12573.0</td>\n",
       "      <td>931.866532</td>\n",
       "      <td>3.405</td>\n",
       "      <td>NaN</td>\n",
       "      <td>NaN</td>\n",
       "      <td>NaN</td>\n",
       "    </tr>\n",
       "    <tr>\n",
       "      <th>Algeria</th>\n",
       "      <td>1990</td>\n",
       "      <td>2.1</td>\n",
       "      <td>11733.0</td>\n",
       "      <td>53419.0</td>\n",
       "      <td>NaN</td>\n",
       "      <td>NaN</td>\n",
       "      <td>NaN</td>\n",
       "      <td>25912.364</td>\n",
       "      <td>13666.998</td>\n",
       "      <td>12573.0</td>\n",
       "      <td>931.866532</td>\n",
       "      <td>3.405</td>\n",
       "      <td>NaN</td>\n",
       "      <td>NaN</td>\n",
       "      <td>NaN</td>\n",
       "    </tr>\n",
       "    <tr>\n",
       "      <th>Algeria</th>\n",
       "      <td>1990</td>\n",
       "      <td>2.1</td>\n",
       "      <td>11733.0</td>\n",
       "      <td>7610.0</td>\n",
       "      <td>NaN</td>\n",
       "      <td>NaN</td>\n",
       "      <td>NaN</td>\n",
       "      <td>25912.364</td>\n",
       "      <td>13666.998</td>\n",
       "      <td>12573.0</td>\n",
       "      <td>931.866532</td>\n",
       "      <td>3.405</td>\n",
       "      <td>NaN</td>\n",
       "      <td>NaN</td>\n",
       "      <td>NaN</td>\n",
       "    </tr>\n",
       "  </tbody>\n",
       "</table>\n",
       "</div>"
      ],
      "text/plain": [
       "         Year  People_UnderNourished_millions  Crop_Production_x  \\\n",
       "Country                                                            \n",
       "Algeria  1990                             2.1            11733.0   \n",
       "Algeria  1990                             2.1            11733.0   \n",
       "Algeria  1990                             2.1            11733.0   \n",
       "Algeria  1990                             2.1            11733.0   \n",
       "Algeria  1990                             2.1            11733.0   \n",
       "\n",
       "         Crop_Production_y  Agric_Value_Added_USD  GDP_Per_Capita_USD_x  \\\n",
       "Country                                                                   \n",
       "Algeria             4691.0                    NaN                   NaN   \n",
       "Algeria            36258.0                    NaN                   NaN   \n",
       "Algeria            24967.0                    NaN                   NaN   \n",
       "Algeria            53419.0                    NaN                   NaN   \n",
       "Algeria             7610.0                    NaN                   NaN   \n",
       "\n",
       "         GDP_Per_Capita_USD_y  Total_Population_millions  Urban_Population  \\\n",
       "Country                                                                      \n",
       "Algeria                   NaN                  25912.364         13666.998   \n",
       "Algeria                   NaN                  25912.364         13666.998   \n",
       "Algeria                   NaN                  25912.364         13666.998   \n",
       "Algeria                   NaN                  25912.364         13666.998   \n",
       "Algeria                   NaN                  25912.364         13666.998   \n",
       "\n",
       "         Rural_Population  Total_FDI_Inflows  FDI_Inflows_Agric  \\\n",
       "Country                                                           \n",
       "Algeria           12573.0         931.866532              3.405   \n",
       "Algeria           12573.0         931.866532              3.405   \n",
       "Algeria           12573.0         931.866532              3.405   \n",
       "Algeria           12573.0         931.866532              3.405   \n",
       "Algeria           12573.0         931.866532              3.405   \n",
       "\n",
       "         ODA__Crop_Production  Total_Credit_AFF  AFF_Credit_Share  \n",
       "Country                                                            \n",
       "Algeria                   NaN               NaN               NaN  \n",
       "Algeria                   NaN               NaN               NaN  \n",
       "Algeria                   NaN               NaN               NaN  \n",
       "Algeria                   NaN               NaN               NaN  \n",
       "Algeria                   NaN               NaN               NaN  "
      ]
     },
     "execution_count": 270,
     "metadata": {},
     "output_type": "execute_result"
    }
   ],
   "source": [
    "dfi.head(5)"
   ]
  },
  {
   "cell_type": "code",
   "execution_count": 275,
   "metadata": {
    "collapsed": false
   },
   "outputs": [
    {
     "data": {
      "text/plain": [
       "Year                                    0\n",
       "People_UnderNourished_millions    1079987\n",
       "Crop_Production_x                     151\n",
       "Crop_Production_y                     211\n",
       "Agric_Value_Added_USD              149709\n",
       "GDP_Per_Capita_USD_x               149709\n",
       "GDP_Per_Capita_USD_y              5415463\n",
       "Total_Population_millions              25\n",
       "Urban_Population                       25\n",
       "Rural_Population                       25\n",
       "Total_FDI_Inflows                  312191\n",
       "FDI_Inflows_Agric                 3914420\n",
       "ODA__Crop_Production               248791\n",
       "Total_Credit_AFF                  1905326\n",
       "AFF_Credit_Share                  1905326\n",
       "dtype: int64"
      ]
     },
     "execution_count": 275,
     "metadata": {},
     "output_type": "execute_result"
    }
   ],
   "source": [
    "dfi.isnull().sum()"
   ]
  },
  {
   "cell_type": "code",
   "execution_count": 282,
   "metadata": {
    "collapsed": true
   },
   "outputs": [],
   "source": [
    "dfi.dropna(axis=0, inplace=True)"
   ]
  },
  {
   "cell_type": "code",
   "execution_count": 284,
   "metadata": {
    "collapsed": false
   },
   "outputs": [
    {
     "name": "stdout",
     "output_type": "stream",
     "text": [
      "(793303, 15)\n",
      "Year                              0\n",
      "People_UnderNourished_millions    0\n",
      "Crop_Production_x                 0\n",
      "Crop_Production_y                 0\n",
      "Agric_Value_Added_USD             0\n",
      "GDP_Per_Capita_USD_x              0\n",
      "GDP_Per_Capita_USD_y              0\n",
      "Total_Population_millions         0\n",
      "Urban_Population                  0\n",
      "Rural_Population                  0\n",
      "Total_FDI_Inflows                 0\n",
      "FDI_Inflows_Agric                 0\n",
      "ODA__Crop_Production              0\n",
      "Total_Credit_AFF                  0\n",
      "AFF_Credit_Share                  0\n",
      "dtype: int64\n"
     ]
    }
   ],
   "source": [
    "print dfi.shape\n",
    "print dfi.isnull().sum()"
   ]
  },
  {
   "cell_type": "code",
   "execution_count": 287,
   "metadata": {
    "collapsed": false
   },
   "outputs": [
    {
     "data": {
      "text/html": [
       "<div>\n",
       "<table border=\"1\" class=\"dataframe\">\n",
       "  <thead>\n",
       "    <tr style=\"text-align: right;\">\n",
       "      <th></th>\n",
       "      <th>Year</th>\n",
       "    </tr>\n",
       "    <tr>\n",
       "      <th>Country</th>\n",
       "      <th></th>\n",
       "    </tr>\n",
       "  </thead>\n",
       "  <tbody>\n",
       "    <tr>\n",
       "      <th>Algeria</th>\n",
       "      <td>25</td>\n",
       "    </tr>\n",
       "    <tr>\n",
       "      <th>Angola</th>\n",
       "      <td>25</td>\n",
       "    </tr>\n",
       "    <tr>\n",
       "      <th>Benin</th>\n",
       "      <td>25</td>\n",
       "    </tr>\n",
       "    <tr>\n",
       "      <th>Botswana</th>\n",
       "      <td>25</td>\n",
       "    </tr>\n",
       "    <tr>\n",
       "      <th>Burkina Faso</th>\n",
       "      <td>25</td>\n",
       "    </tr>\n",
       "    <tr>\n",
       "      <th>Burundi</th>\n",
       "      <td>25</td>\n",
       "    </tr>\n",
       "    <tr>\n",
       "      <th>Cabo Verde</th>\n",
       "      <td>25</td>\n",
       "    </tr>\n",
       "    <tr>\n",
       "      <th>Cameroon</th>\n",
       "      <td>25</td>\n",
       "    </tr>\n",
       "    <tr>\n",
       "      <th>Central African Republic</th>\n",
       "      <td>25</td>\n",
       "    </tr>\n",
       "    <tr>\n",
       "      <th>Chad</th>\n",
       "      <td>25</td>\n",
       "    </tr>\n",
       "    <tr>\n",
       "      <th>Congo</th>\n",
       "      <td>25</td>\n",
       "    </tr>\n",
       "    <tr>\n",
       "      <th>CÌ«te d'Ivoire</th>\n",
       "      <td>25</td>\n",
       "    </tr>\n",
       "    <tr>\n",
       "      <th>Democratic Republic of the Congo</th>\n",
       "      <td>25</td>\n",
       "    </tr>\n",
       "    <tr>\n",
       "      <th>Djibouti</th>\n",
       "      <td>25</td>\n",
       "    </tr>\n",
       "    <tr>\n",
       "      <th>Egypt</th>\n",
       "      <td>25</td>\n",
       "    </tr>\n",
       "    <tr>\n",
       "      <th>Equatorial Guinea</th>\n",
       "      <td>25</td>\n",
       "    </tr>\n",
       "    <tr>\n",
       "      <th>Eritrea</th>\n",
       "      <td>25</td>\n",
       "    </tr>\n",
       "    <tr>\n",
       "      <th>Ethiopia</th>\n",
       "      <td>25</td>\n",
       "    </tr>\n",
       "    <tr>\n",
       "      <th>Gabon</th>\n",
       "      <td>25</td>\n",
       "    </tr>\n",
       "    <tr>\n",
       "      <th>Gambia</th>\n",
       "      <td>25</td>\n",
       "    </tr>\n",
       "    <tr>\n",
       "      <th>Ghana</th>\n",
       "      <td>25</td>\n",
       "    </tr>\n",
       "    <tr>\n",
       "      <th>Guinea</th>\n",
       "      <td>25</td>\n",
       "    </tr>\n",
       "    <tr>\n",
       "      <th>Guinea-Bissau</th>\n",
       "      <td>25</td>\n",
       "    </tr>\n",
       "    <tr>\n",
       "      <th>Kenya</th>\n",
       "      <td>25</td>\n",
       "    </tr>\n",
       "    <tr>\n",
       "      <th>Lesotho</th>\n",
       "      <td>25</td>\n",
       "    </tr>\n",
       "    <tr>\n",
       "      <th>Liberia</th>\n",
       "      <td>25</td>\n",
       "    </tr>\n",
       "    <tr>\n",
       "      <th>Libya</th>\n",
       "      <td>25</td>\n",
       "    </tr>\n",
       "    <tr>\n",
       "      <th>Madagascar</th>\n",
       "      <td>25</td>\n",
       "    </tr>\n",
       "    <tr>\n",
       "      <th>Malawi</th>\n",
       "      <td>25</td>\n",
       "    </tr>\n",
       "    <tr>\n",
       "      <th>Mali</th>\n",
       "      <td>25</td>\n",
       "    </tr>\n",
       "    <tr>\n",
       "      <th>Mauritania</th>\n",
       "      <td>25</td>\n",
       "    </tr>\n",
       "    <tr>\n",
       "      <th>Mauritius</th>\n",
       "      <td>25</td>\n",
       "    </tr>\n",
       "    <tr>\n",
       "      <th>Morocco</th>\n",
       "      <td>25</td>\n",
       "    </tr>\n",
       "    <tr>\n",
       "      <th>Mozambique</th>\n",
       "      <td>25</td>\n",
       "    </tr>\n",
       "    <tr>\n",
       "      <th>Namibia</th>\n",
       "      <td>25</td>\n",
       "    </tr>\n",
       "    <tr>\n",
       "      <th>Niger</th>\n",
       "      <td>25</td>\n",
       "    </tr>\n",
       "    <tr>\n",
       "      <th>Nigeria</th>\n",
       "      <td>25</td>\n",
       "    </tr>\n",
       "    <tr>\n",
       "      <th>Rwanda</th>\n",
       "      <td>25</td>\n",
       "    </tr>\n",
       "    <tr>\n",
       "      <th>Senegal</th>\n",
       "      <td>25</td>\n",
       "    </tr>\n",
       "    <tr>\n",
       "      <th>Seychelles</th>\n",
       "      <td>25</td>\n",
       "    </tr>\n",
       "    <tr>\n",
       "      <th>Sierra Leone</th>\n",
       "      <td>25</td>\n",
       "    </tr>\n",
       "    <tr>\n",
       "      <th>South Africa</th>\n",
       "      <td>25</td>\n",
       "    </tr>\n",
       "    <tr>\n",
       "      <th>South Sudan</th>\n",
       "      <td>25</td>\n",
       "    </tr>\n",
       "    <tr>\n",
       "      <th>Sudan</th>\n",
       "      <td>25</td>\n",
       "    </tr>\n",
       "    <tr>\n",
       "      <th>Sudan (former)</th>\n",
       "      <td>25</td>\n",
       "    </tr>\n",
       "    <tr>\n",
       "      <th>Swaziland</th>\n",
       "      <td>25</td>\n",
       "    </tr>\n",
       "    <tr>\n",
       "      <th>Togo</th>\n",
       "      <td>25</td>\n",
       "    </tr>\n",
       "    <tr>\n",
       "      <th>Tunisia</th>\n",
       "      <td>25</td>\n",
       "    </tr>\n",
       "    <tr>\n",
       "      <th>Uganda</th>\n",
       "      <td>25</td>\n",
       "    </tr>\n",
       "    <tr>\n",
       "      <th>Zambia</th>\n",
       "      <td>25</td>\n",
       "    </tr>\n",
       "    <tr>\n",
       "      <th>Zimbabwe</th>\n",
       "      <td>25</td>\n",
       "    </tr>\n",
       "  </tbody>\n",
       "</table>\n",
       "</div>"
      ],
      "text/plain": [
       "                                  Year\n",
       "Country                               \n",
       "Algeria                             25\n",
       "Angola                              25\n",
       "Benin                               25\n",
       "Botswana                            25\n",
       "Burkina Faso                        25\n",
       "Burundi                             25\n",
       "Cabo Verde                          25\n",
       "Cameroon                            25\n",
       "Central African Republic            25\n",
       "Chad                                25\n",
       "Congo                               25\n",
       "CÌ«te d'Ivoire                      25\n",
       "Democratic Republic of the Congo    25\n",
       "Djibouti                            25\n",
       "Egypt                               25\n",
       "Equatorial Guinea                   25\n",
       "Eritrea                             25\n",
       "Ethiopia                            25\n",
       "Gabon                               25\n",
       "Gambia                              25\n",
       "Ghana                               25\n",
       "Guinea                              25\n",
       "Guinea-Bissau                       25\n",
       "Kenya                               25\n",
       "Lesotho                             25\n",
       "Liberia                             25\n",
       "Libya                               25\n",
       "Madagascar                          25\n",
       "Malawi                              25\n",
       "Mali                                25\n",
       "Mauritania                          25\n",
       "Mauritius                           25\n",
       "Morocco                             25\n",
       "Mozambique                          25\n",
       "Namibia                             25\n",
       "Niger                               25\n",
       "Nigeria                             25\n",
       "Rwanda                              25\n",
       "Senegal                             25\n",
       "Seychelles                          25\n",
       "Sierra Leone                        25\n",
       "South Africa                        25\n",
       "South Sudan                         25\n",
       "Sudan                               25\n",
       "Sudan (former)                      25\n",
       "Swaziland                           25\n",
       "Togo                                25\n",
       "Tunisia                             25\n",
       "Uganda                              25\n",
       "Zambia                              25\n",
       "Zimbabwe                            25"
      ]
     },
     "execution_count": 287,
     "metadata": {},
     "output_type": "execute_result"
    }
   ],
   "source": [
    "#Previewing the basic list of countries in the dataframe and years under consideration.\n",
    "pd.set_option('display.max_rows', 400)\n",
    "df1.groupby(['Country'])[['Year']].count()"
   ]
  },
  {
   "cell_type": "code",
   "execution_count": 288,
   "metadata": {
    "collapsed": false
   },
   "outputs": [
    {
     "data": {
      "text/html": [
       "<div>\n",
       "<table border=\"1\" class=\"dataframe\">\n",
       "  <thead>\n",
       "    <tr style=\"text-align: right;\">\n",
       "      <th></th>\n",
       "      <th>Year</th>\n",
       "      <th>People_UnderNourished_millions</th>\n",
       "      <th>Crop_Production_x</th>\n",
       "      <th>Crop_Production_y</th>\n",
       "      <th>Agric_Value_Added_USD</th>\n",
       "      <th>GDP_Per_Capita_USD_x</th>\n",
       "      <th>GDP_Per_Capita_USD_y</th>\n",
       "      <th>Total_Population_millions</th>\n",
       "      <th>Urban_Population</th>\n",
       "      <th>Rural_Population</th>\n",
       "      <th>Total_FDI_Inflows</th>\n",
       "      <th>FDI_Inflows_Agric</th>\n",
       "      <th>ODA__Crop_Production</th>\n",
       "      <th>Total_Credit_AFF</th>\n",
       "      <th>AFF_Credit_Share</th>\n",
       "    </tr>\n",
       "    <tr>\n",
       "      <th>Country</th>\n",
       "      <th></th>\n",
       "      <th></th>\n",
       "      <th></th>\n",
       "      <th></th>\n",
       "      <th></th>\n",
       "      <th></th>\n",
       "      <th></th>\n",
       "      <th></th>\n",
       "      <th></th>\n",
       "      <th></th>\n",
       "      <th></th>\n",
       "      <th></th>\n",
       "      <th></th>\n",
       "      <th></th>\n",
       "      <th></th>\n",
       "    </tr>\n",
       "  </thead>\n",
       "  <tbody>\n",
       "    <tr>\n",
       "      <th>Ethiopia</th>\n",
       "      <td>2004</td>\n",
       "      <td>34.9</td>\n",
       "      <td>900.0</td>\n",
       "      <td>6250.0</td>\n",
       "      <td>4491.925334</td>\n",
       "      <td>145.999325</td>\n",
       "      <td>225.1</td>\n",
       "      <td>74506.974</td>\n",
       "      <td>11483.481</td>\n",
       "      <td>62583.0</td>\n",
       "      <td>596.78</td>\n",
       "      <td>4.122881</td>\n",
       "      <td>0.12</td>\n",
       "      <td>3658.99</td>\n",
       "      <td>0.03678</td>\n",
       "    </tr>\n",
       "  </tbody>\n",
       "</table>\n",
       "</div>"
      ],
      "text/plain": [
       "          Year  People_UnderNourished_millions  Crop_Production_x  \\\n",
       "Country                                                             \n",
       "Ethiopia  2004                            34.9              900.0   \n",
       "\n",
       "          Crop_Production_y  Agric_Value_Added_USD  GDP_Per_Capita_USD_x  \\\n",
       "Country                                                                    \n",
       "Ethiopia             6250.0            4491.925334            145.999325   \n",
       "\n",
       "          GDP_Per_Capita_USD_y  Total_Population_millions  Urban_Population  \\\n",
       "Country                                                                       \n",
       "Ethiopia                 225.1                  74506.974         11483.481   \n",
       "\n",
       "          Rural_Population  Total_FDI_Inflows  FDI_Inflows_Agric  \\\n",
       "Country                                                            \n",
       "Ethiopia           62583.0             596.78           4.122881   \n",
       "\n",
       "          ODA__Crop_Production  Total_Credit_AFF  AFF_Credit_Share  \n",
       "Country                                                             \n",
       "Ethiopia                  0.12           3658.99           0.03678  "
      ]
     },
     "execution_count": 288,
     "metadata": {},
     "output_type": "execute_result"
    }
   ],
   "source": [
    "dfi.head(1)"
   ]
  },
  {
   "cell_type": "code",
   "execution_count": 289,
   "metadata": {
    "collapsed": false
   },
   "outputs": [
    {
     "data": {
      "text/plain": [
       "Year                              0\n",
       "People_UnderNourished_millions    0\n",
       "Crop_Production_x                 0\n",
       "Crop_Production_y                 0\n",
       "Agric_Value_Added_USD             0\n",
       "GDP_Per_Capita_USD_x              0\n",
       "GDP_Per_Capita_USD_y              0\n",
       "Total_Population_millions         0\n",
       "Urban_Population                  0\n",
       "Rural_Population                  0\n",
       "Total_FDI_Inflows                 0\n",
       "FDI_Inflows_Agric                 0\n",
       "ODA__Crop_Production              0\n",
       "Total_Credit_AFF                  0\n",
       "AFF_Credit_Share                  0\n",
       "dtype: int64"
      ]
     },
     "execution_count": 289,
     "metadata": {},
     "output_type": "execute_result"
    }
   ],
   "source": [
    "dfi.isnull().sum()"
   ]
  },
  {
   "cell_type": "code",
   "execution_count": 290,
   "metadata": {
    "collapsed": false
   },
   "outputs": [
    {
     "data": {
      "text/html": [
       "<div>\n",
       "<table border=\"1\" class=\"dataframe\">\n",
       "  <thead>\n",
       "    <tr style=\"text-align: right;\">\n",
       "      <th></th>\n",
       "      <th>Year</th>\n",
       "      <th>People_UnderNourished_millions</th>\n",
       "      <th>Crop_Production_x</th>\n",
       "      <th>Crop_Production_y</th>\n",
       "      <th>Agric_Value_Added_USD</th>\n",
       "      <th>GDP_Per_Capita_USD_x</th>\n",
       "      <th>GDP_Per_Capita_USD_y</th>\n",
       "      <th>Total_Population_millions</th>\n",
       "      <th>Urban_Population</th>\n",
       "      <th>Rural_Population</th>\n",
       "      <th>Total_FDI_Inflows</th>\n",
       "      <th>FDI_Inflows_Agric</th>\n",
       "      <th>ODA__Crop_Production</th>\n",
       "      <th>Total_Credit_AFF</th>\n",
       "      <th>AFF_Credit_Share</th>\n",
       "    </tr>\n",
       "    <tr>\n",
       "      <th>Country</th>\n",
       "      <th></th>\n",
       "      <th></th>\n",
       "      <th></th>\n",
       "      <th></th>\n",
       "      <th></th>\n",
       "      <th></th>\n",
       "      <th></th>\n",
       "      <th></th>\n",
       "      <th></th>\n",
       "      <th></th>\n",
       "      <th></th>\n",
       "      <th></th>\n",
       "      <th></th>\n",
       "      <th></th>\n",
       "      <th></th>\n",
       "    </tr>\n",
       "  </thead>\n",
       "  <tbody>\n",
       "    <tr>\n",
       "      <th>Ethiopia</th>\n",
       "      <td>2004</td>\n",
       "      <td>34.9</td>\n",
       "      <td>900.0</td>\n",
       "      <td>6250.0</td>\n",
       "      <td>4491.925334</td>\n",
       "      <td>145.999325</td>\n",
       "      <td>225.1</td>\n",
       "      <td>74506.974</td>\n",
       "      <td>11483.481</td>\n",
       "      <td>62583.0</td>\n",
       "      <td>596.78</td>\n",
       "      <td>4.122881</td>\n",
       "      <td>0.120000</td>\n",
       "      <td>3658.99</td>\n",
       "      <td>0.03678</td>\n",
       "    </tr>\n",
       "    <tr>\n",
       "      <th>Ethiopia</th>\n",
       "      <td>2004</td>\n",
       "      <td>34.9</td>\n",
       "      <td>900.0</td>\n",
       "      <td>6250.0</td>\n",
       "      <td>4491.925334</td>\n",
       "      <td>145.999325</td>\n",
       "      <td>225.1</td>\n",
       "      <td>74506.974</td>\n",
       "      <td>11483.481</td>\n",
       "      <td>62583.0</td>\n",
       "      <td>596.78</td>\n",
       "      <td>4.122881</td>\n",
       "      <td>0.110000</td>\n",
       "      <td>3658.99</td>\n",
       "      <td>0.03678</td>\n",
       "    </tr>\n",
       "    <tr>\n",
       "      <th>Ethiopia</th>\n",
       "      <td>2004</td>\n",
       "      <td>34.9</td>\n",
       "      <td>900.0</td>\n",
       "      <td>6250.0</td>\n",
       "      <td>4491.925334</td>\n",
       "      <td>145.999325</td>\n",
       "      <td>225.1</td>\n",
       "      <td>74506.974</td>\n",
       "      <td>11483.481</td>\n",
       "      <td>62583.0</td>\n",
       "      <td>596.78</td>\n",
       "      <td>4.122881</td>\n",
       "      <td>0.934835</td>\n",
       "      <td>3658.99</td>\n",
       "      <td>0.03678</td>\n",
       "    </tr>\n",
       "    <tr>\n",
       "      <th>Ethiopia</th>\n",
       "      <td>2004</td>\n",
       "      <td>34.9</td>\n",
       "      <td>900.0</td>\n",
       "      <td>6250.0</td>\n",
       "      <td>4491.925334</td>\n",
       "      <td>145.999325</td>\n",
       "      <td>225.1</td>\n",
       "      <td>74506.974</td>\n",
       "      <td>11483.481</td>\n",
       "      <td>62583.0</td>\n",
       "      <td>596.78</td>\n",
       "      <td>4.122881</td>\n",
       "      <td>0.934835</td>\n",
       "      <td>3658.99</td>\n",
       "      <td>0.03678</td>\n",
       "    </tr>\n",
       "    <tr>\n",
       "      <th>Ethiopia</th>\n",
       "      <td>2004</td>\n",
       "      <td>34.9</td>\n",
       "      <td>900.0</td>\n",
       "      <td>51539.0</td>\n",
       "      <td>4491.925334</td>\n",
       "      <td>145.999325</td>\n",
       "      <td>225.1</td>\n",
       "      <td>74506.974</td>\n",
       "      <td>11483.481</td>\n",
       "      <td>62583.0</td>\n",
       "      <td>596.78</td>\n",
       "      <td>4.122881</td>\n",
       "      <td>0.120000</td>\n",
       "      <td>3658.99</td>\n",
       "      <td>0.03678</td>\n",
       "    </tr>\n",
       "  </tbody>\n",
       "</table>\n",
       "</div>"
      ],
      "text/plain": [
       "          Year  People_UnderNourished_millions  Crop_Production_x  \\\n",
       "Country                                                             \n",
       "Ethiopia  2004                            34.9              900.0   \n",
       "Ethiopia  2004                            34.9              900.0   \n",
       "Ethiopia  2004                            34.9              900.0   \n",
       "Ethiopia  2004                            34.9              900.0   \n",
       "Ethiopia  2004                            34.9              900.0   \n",
       "\n",
       "          Crop_Production_y  Agric_Value_Added_USD  GDP_Per_Capita_USD_x  \\\n",
       "Country                                                                    \n",
       "Ethiopia             6250.0            4491.925334            145.999325   \n",
       "Ethiopia             6250.0            4491.925334            145.999325   \n",
       "Ethiopia             6250.0            4491.925334            145.999325   \n",
       "Ethiopia             6250.0            4491.925334            145.999325   \n",
       "Ethiopia            51539.0            4491.925334            145.999325   \n",
       "\n",
       "          GDP_Per_Capita_USD_y  Total_Population_millions  Urban_Population  \\\n",
       "Country                                                                       \n",
       "Ethiopia                 225.1                  74506.974         11483.481   \n",
       "Ethiopia                 225.1                  74506.974         11483.481   \n",
       "Ethiopia                 225.1                  74506.974         11483.481   \n",
       "Ethiopia                 225.1                  74506.974         11483.481   \n",
       "Ethiopia                 225.1                  74506.974         11483.481   \n",
       "\n",
       "          Rural_Population  Total_FDI_Inflows  FDI_Inflows_Agric  \\\n",
       "Country                                                            \n",
       "Ethiopia           62583.0             596.78           4.122881   \n",
       "Ethiopia           62583.0             596.78           4.122881   \n",
       "Ethiopia           62583.0             596.78           4.122881   \n",
       "Ethiopia           62583.0             596.78           4.122881   \n",
       "Ethiopia           62583.0             596.78           4.122881   \n",
       "\n",
       "          ODA__Crop_Production  Total_Credit_AFF  AFF_Credit_Share  \n",
       "Country                                                             \n",
       "Ethiopia              0.120000           3658.99           0.03678  \n",
       "Ethiopia              0.110000           3658.99           0.03678  \n",
       "Ethiopia              0.934835           3658.99           0.03678  \n",
       "Ethiopia              0.934835           3658.99           0.03678  \n",
       "Ethiopia              0.120000           3658.99           0.03678  "
      ]
     },
     "execution_count": 290,
     "metadata": {},
     "output_type": "execute_result"
    }
   ],
   "source": [
    "dfi.head(5)"
   ]
  },
  {
   "cell_type": "code",
   "execution_count": 291,
   "metadata": {
    "collapsed": false
   },
   "outputs": [
    {
     "data": {
      "text/plain": [
       "<matplotlib.lines.Line2D at 0x10d716ed0>"
      ]
     },
     "execution_count": 291,
     "metadata": {},
     "output_type": "execute_result"
    },
    {
     "data": {
      "image/png": "iVBORw0KGgoAAAANSUhEUgAABMkAAALKCAYAAAAoFAYAAAAABHNCSVQICAgIfAhkiAAAAAlwSFlz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\n",
      "text/plain": [
       "<matplotlib.figure.Figure at 0x10d70a090>"
      ]
     },
     "metadata": {
      "image/png": {
       "height": 357,
       "width": 612
      }
     },
     "output_type": "display_data"
    }
   ],
   "source": [
    "fig = plt.figure(figsize=(10,6))\n",
    "result = plt.hist(dfi['People_UnderNourished_millions'], bins=20, color='r')\n",
    "plt.axvline(dfi['People_UnderNourished_millions'].mean(), color='b', linestyle='dotted', linewidth=5)"
   ]
  },
  {
   "cell_type": "code",
   "execution_count": 292,
   "metadata": {
    "collapsed": false
   },
   "outputs": [
    {
     "data": {
      "text/plain": [
       "<matplotlib.axes._subplots.AxesSubplot at 0x1409e69d0>"
      ]
     },
     "execution_count": 292,
     "metadata": {},
     "output_type": "execute_result"
    },
    {
     "data": {
      "image/png": "iVBORw0KGgoAAAANSUhEUgAAAroAAAIMCAYAAAAabg9xAAAABHNCSVQICAgIfAhkiAAAAAlwSFlz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\nssdsmX4AAAAASUVORK5CYII=\n",
      "text/plain": [
       "<matplotlib.figure.Figure at 0x10d70a5d0>"
      ]
     },
     "metadata": {
      "image/png": {
       "height": 262,
       "width": 349
      }
     },
     "output_type": "display_data"
    }
   ],
   "source": [
    "sns.boxplot(dfi.People_UnderNourished_millions, orient='h', fliersize=10)"
   ]
  },
  {
   "cell_type": "code",
   "execution_count": 293,
   "metadata": {
    "collapsed": false
   },
   "outputs": [
    {
     "data": {
      "text/html": [
       "<div>\n",
       "<table border=\"1\" class=\"dataframe\">\n",
       "  <thead>\n",
       "    <tr style=\"text-align: right;\">\n",
       "      <th></th>\n",
       "      <th>Year</th>\n",
       "      <th>People_UnderNourished_millions</th>\n",
       "      <th>Crop_Production_x</th>\n",
       "      <th>Crop_Production_y</th>\n",
       "      <th>Agric_Value_Added_USD</th>\n",
       "      <th>GDP_Per_Capita_USD_x</th>\n",
       "      <th>GDP_Per_Capita_USD_y</th>\n",
       "      <th>Total_Population_millions</th>\n",
       "      <th>Urban_Population</th>\n",
       "      <th>Rural_Population</th>\n",
       "      <th>Total_FDI_Inflows</th>\n",
       "      <th>FDI_Inflows_Agric</th>\n",
       "      <th>ODA__Crop_Production</th>\n",
       "      <th>Total_Credit_AFF</th>\n",
       "      <th>AFF_Credit_Share</th>\n",
       "    </tr>\n",
       "    <tr>\n",
       "      <th>Country</th>\n",
       "      <th></th>\n",
       "      <th></th>\n",
       "      <th></th>\n",
       "      <th></th>\n",
       "      <th></th>\n",
       "      <th></th>\n",
       "      <th></th>\n",
       "      <th></th>\n",
       "      <th></th>\n",
       "      <th></th>\n",
       "      <th></th>\n",
       "      <th></th>\n",
       "      <th></th>\n",
       "      <th></th>\n",
       "      <th></th>\n",
       "    </tr>\n",
       "  </thead>\n",
       "  <tbody>\n",
       "    <tr>\n",
       "      <th>Ethiopia</th>\n",
       "      <td>2004</td>\n",
       "      <td>34.9</td>\n",
       "      <td>900.0</td>\n",
       "      <td>6250.0</td>\n",
       "      <td>4491.925334</td>\n",
       "      <td>145.999325</td>\n",
       "      <td>225.1</td>\n",
       "      <td>74506.974</td>\n",
       "      <td>11483.481</td>\n",
       "      <td>62583.0</td>\n",
       "      <td>596.78</td>\n",
       "      <td>4.122881</td>\n",
       "      <td>0.12</td>\n",
       "      <td>3658.99</td>\n",
       "      <td>0.03678</td>\n",
       "    </tr>\n",
       "  </tbody>\n",
       "</table>\n",
       "</div>"
      ],
      "text/plain": [
       "          Year  People_UnderNourished_millions  Crop_Production_x  \\\n",
       "Country                                                             \n",
       "Ethiopia  2004                            34.9              900.0   \n",
       "\n",
       "          Crop_Production_y  Agric_Value_Added_USD  GDP_Per_Capita_USD_x  \\\n",
       "Country                                                                    \n",
       "Ethiopia             6250.0            4491.925334            145.999325   \n",
       "\n",
       "          GDP_Per_Capita_USD_y  Total_Population_millions  Urban_Population  \\\n",
       "Country                                                                       \n",
       "Ethiopia                 225.1                  74506.974         11483.481   \n",
       "\n",
       "          Rural_Population  Total_FDI_Inflows  FDI_Inflows_Agric  \\\n",
       "Country                                                            \n",
       "Ethiopia           62583.0             596.78           4.122881   \n",
       "\n",
       "          ODA__Crop_Production  Total_Credit_AFF  AFF_Credit_Share  \n",
       "Country                                                             \n",
       "Ethiopia                  0.12           3658.99           0.03678  "
      ]
     },
     "execution_count": 293,
     "metadata": {},
     "output_type": "execute_result"
    }
   ],
   "source": [
    "dfi.head(1)"
   ]
  },
  {
   "cell_type": "code",
   "execution_count": 294,
   "metadata": {
    "collapsed": true
   },
   "outputs": [],
   "source": [
    "dfi['log_food_security'] = dfi.People_UnderNourished_millions.apply(np.log)\n",
    "dfi['log_production'] = dfi.Crop_Production_x.apply(np.log)\n",
    "dfi['log_AGVA'] = dfi.Agric_Value_Added_USD.apply(np.log)\n",
    "dfi['log_GDP'] = dfi.GDP_Per_Capita_USD_x.apply(np.log)\n",
    "dfi['log_pop'] = dfi.Total_Population_millions.apply(np.log)\n",
    "dfi['log_FDI'] = dfi.Total_FDI_Inflows.apply(np.log)\n",
    "dfi['log_ODA'] = dfi.ODA__Crop_Production.apply(np.log)\n",
    "dfi['log_total_credit'] = dfi.Total_Credit_AFF.apply(np.log)\n"
   ]
  },
  {
   "cell_type": "code",
   "execution_count": 324,
   "metadata": {
    "collapsed": false
   },
   "outputs": [
    {
     "data": {
      "image/png": "iVBORw0KGgoAAAANSUhEUgAABFMAAAOjCAYAAAB3EUsGAAAABHNCSVQICAgIfAhkiAAAAAlwSFlz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\n/D8zfcqLORW/GgAAAABJRU5ErkJggg==\n",
      "text/plain": [
       "<matplotlib.figure.Figure at 0x1146c2bd0>"
      ]
     },
     "metadata": {
      "image/png": {
       "height": 465,
       "width": 553
      }
     },
     "output_type": "display_data"
    }
   ],
   "source": [
    "#Correlation matrix obtained to show the relationship between store size, sales, and proift in 2015. Source: Class jupter notebook\n",
    "fig = plt.figure(figsize=(10,8))\n",
    "ax = fig.gca()\n",
    "sns.heatmap(dfi[['log_food_security', 'log_total_credit', 'log_FDI']].corr(),annot=True, ax=ax)\n",
    "plt.show()"
   ]
  },
  {
   "cell_type": "code",
   "execution_count": 295,
   "metadata": {
    "collapsed": false
   },
   "outputs": [
    {
     "data": {
      "text/plain": [
       "<matplotlib.axes._subplots.AxesSubplot at 0x114a113d0>"
      ]
     },
     "execution_count": 295,
     "metadata": {},
     "output_type": "execute_result"
    },
    {
     "data": {
      "image/png": "iVBORw0KGgoAAAANSUhEUgAAAroAAAIMCAYAAAAabg9xAAAABHNCSVQICAgIfAhkiAAAAAlwSFlz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\n",
      "text/plain": [
       "<matplotlib.figure.Figure at 0x114a3cbd0>"
      ]
     },
     "metadata": {
      "image/png": {
       "height": 262,
       "width": 349
      }
     },
     "output_type": "display_data"
    }
   ],
   "source": [
    "sns.boxplot(dfi.log_food_security, orient='h', fliersize=10)"
   ]
  },
  {
   "cell_type": "markdown",
   "metadata": {},
   "source": [
    "# Linear Regression"
   ]
  },
  {
   "cell_type": "code",
   "execution_count": 297,
   "metadata": {
    "collapsed": true
   },
   "outputs": [],
   "source": [
    "# Stats/Regresions Packages\n",
    "from sklearn import linear_model\n",
    "from sklearn.metrics import mean_squared_error"
   ]
  },
  {
   "cell_type": "code",
   "execution_count": 315,
   "metadata": {
    "collapsed": false
   },
   "outputs": [
    {
     "name": "stdout",
     "output_type": "stream",
     "text": [
      "<class 'pandas.core.series.Series'>\n",
      "<class 'pandas.core.frame.DataFrame'>\n",
      "(793303,) (793303, 3)\n"
     ]
    }
   ],
   "source": [
    "# Define your linear model \n",
    "lm = linear_model.LinearRegression() \n",
    "\n",
    "# Define the target variable, called it y\n",
    "target = 'log_food_security'\n",
    "y = dfi[target]\n",
    "print type(y)\n",
    "\n",
    "\n",
    "# The food insecurity predictors are the X explanatory variables\n",
    "X = dfi[['log_pop', 'log_FDI','log_total_credit']]\n",
    "print type(X)\n",
    "\n",
    "# The shapes of y and X are printed\n",
    "print y.shape, X.shape"
   ]
  },
  {
   "cell_type": "code",
   "execution_count": 316,
   "metadata": {
    "collapsed": false
   },
   "outputs": [
    {
     "data": {
      "text/plain": [
       "(793303,)"
      ]
     },
     "execution_count": 316,
     "metadata": {},
     "output_type": "execute_result"
    }
   ],
   "source": [
    "# Fitting the model\n",
    "model = lm.fit(X, y)\n",
    "\n",
    "# I Predict y and the shapes of the predictions\n",
    "# Print the shape of predictions\n",
    "predictions = lm.predict(X)\n",
    "predictions.shape"
   ]
  },
  {
   "cell_type": "code",
   "execution_count": 317,
   "metadata": {
    "collapsed": false
   },
   "outputs": [
    {
     "name": "stdout",
     "output_type": "stream",
     "text": [
      "1.71851432107\n",
      "1.71851432105\n"
     ]
    }
   ],
   "source": [
    "## Is there a difference between the means for actual values (malnutrition) and the predictions\n",
    "print dfi['log_food_security'].mean()\n",
    "print predictions.mean()"
   ]
  },
  {
   "cell_type": "code",
   "execution_count": 318,
   "metadata": {
    "collapsed": false
   },
   "outputs": [
    {
     "data": {
      "image/png": "iVBORw0KGgoAAAANSUhEUgAABL4AAALmCAYAAABM712sAAAABHNCSVQICAgIfAhkiAAAAAlwSFlz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\nviRJkiRJktRIBr4kSZIkSZLUSP8fBB3UG9Gmf1oAAAAASUVORK5CYII=\n",
      "text/plain": [
       "<matplotlib.figure.Figure at 0x111404ad0>"
      ]
     },
     "metadata": {
      "image/png": {
       "height": 371,
       "width": 607
      }
     },
     "output_type": "display_data"
    },
    {
     "name": "stdout",
     "output_type": "stream",
     "text": [
      "MSE: 0.063954769057\n"
     ]
    }
   ],
   "source": [
    "## Construct a scatter plot of your model. Use your predicted values as your y axis and your y values as your x axis\n",
    "## Print the Mean Square error see/read this link \n",
    "## http://mste.illinois.edu/patel/amar430/meansquare.html\n",
    "\n",
    "## s = s: size in points, c = color, where s is size, c is color\n",
    "\n",
    "fig = plt.figure(figsize=(10,6))\n",
    "plt.scatter(predictions, y, s=100, c='b', marker='+')\n",
    "plt.xlabel(\"Predicted Values from log_pop, log_FDI, and log_total_credit\")\n",
    "plt.ylabel(\"Actual Values food security\")\n",
    "plt.show()\n",
    "\n",
    "print \"MSE:\", mean_squared_error(y, predictions)"
   ]
  },
  {
   "cell_type": "code",
   "execution_count": 319,
   "metadata": {
    "collapsed": false
   },
   "outputs": [
    {
     "data": {
      "text/plain": [
       "0.96660871405788262"
      ]
     },
     "execution_count": 319,
     "metadata": {},
     "output_type": "execute_result"
    }
   ],
   "source": [
    "# accuracy of the model\n",
    "score_r2 = model.score(X, y)\n",
    "score_r2"
   ]
  },
  {
   "cell_type": "code",
   "execution_count": 320,
   "metadata": {
    "collapsed": false
   },
   "outputs": [
    {
     "data": {
      "text/plain": [
       "array([ 1.01610037, -0.16220351,  0.35492488])"
      ]
     },
     "execution_count": 320,
     "metadata": {},
     "output_type": "execute_result"
    }
   ],
   "source": [
    "## estimated coefficients of the model.\n",
    "model.coef_"
   ]
  },
  {
   "cell_type": "code",
   "execution_count": 321,
   "metadata": {
    "collapsed": false
   },
   "outputs": [
    {
     "data": {
      "text/plain": [
       "-10.197838167458375"
      ]
     },
     "execution_count": 321,
     "metadata": {},
     "output_type": "execute_result"
    }
   ],
   "source": [
    "## intercept of the model.\n",
    "lm.intercept_"
   ]
  },
  {
   "cell_type": "code",
   "execution_count": 314,
   "metadata": {
    "collapsed": false
   },
   "outputs": [
    {
     "data": {
      "image/png": "iVBORw0KGgoAAAANSUhEUgAABMkAAALKCAYAAAAoFAYAAAAABHNCSVQICAgIfAhkiAAAAAlwSFlz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\nRK5CYII=\n",
      "text/plain": [
       "<matplotlib.figure.Figure at 0x112461550>"
      ]
     },
     "metadata": {
      "image/png": {
       "height": 357,
       "width": 612
      }
     },
     "output_type": "display_data"
    }
   ],
   "source": [
    "## Plot a histogram of the variable income \n",
    "fig = plt.figure(figsize=(10,6))\n",
    "dfi['log_total_credit'].hist(color='r', label='Credit', bins=30)\n",
    "plt.legend(loc='upper left')\n",
    "plt.show()"
   ]
  },
  {
   "cell_type": "code",
   "execution_count": null,
   "metadata": {
    "collapsed": true
   },
   "outputs": [],
   "source": [
    "import statsmodels.formula.api as smf\n",
    "lm = smf.ols(formula='People_UnderNourished_millions ~ Crop_Production_x + Total_Population_millions', data=dfi).fit()\n",
    "lm.params\n",
    "lm.summary()"
   ]
  }
 ],
 "metadata": {
  "kernelspec": {
   "display_name": "Python 2",
   "language": "python",
   "name": "python2"
  },
  "language_info": {
   "codemirror_mode": {
    "name": "ipython",
    "version": 2
   },
   "file_extension": ".py",
   "mimetype": "text/x-python",
   "name": "python",
   "nbconvert_exporter": "python",
   "pygments_lexer": "ipython2",
   "version": "2.7.13"
  }
 },
 "nbformat": 4,
 "nbformat_minor": 2
}
